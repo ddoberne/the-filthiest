{
 "cells": [
  {
   "cell_type": "markdown",
   "id": "59e1f3c4",
   "metadata": {},
   "source": [
    "- Scrape data\n",
    "- Update categories\n",
    "- Calculate FiFaX\n",
    "- Save database"
   ]
  },
  {
   "cell_type": "code",
   "execution_count": 25,
   "id": "85daf158",
   "metadata": {},
   "outputs": [],
   "source": [
    "reset -fs"
   ]
  },
  {
   "cell_type": "code",
   "execution_count": 26,
   "id": "ad621a15",
   "metadata": {},
   "outputs": [
    {
     "name": "stdout",
     "output_type": "stream",
     "text": [
      "Requirement already satisfied: selenium in /Users/dayvdoberne/opt/anaconda3/lib/python3.9/site-packages (4.1.3)\n",
      "Requirement already satisfied: trio~=0.17 in /Users/dayvdoberne/opt/anaconda3/lib/python3.9/site-packages (from selenium) (0.20.0)\n",
      "Requirement already satisfied: trio-websocket~=0.9 in /Users/dayvdoberne/opt/anaconda3/lib/python3.9/site-packages (from selenium) (0.9.2)\n",
      "Requirement already satisfied: urllib3[secure,socks]~=1.26 in /Users/dayvdoberne/opt/anaconda3/lib/python3.9/site-packages (from selenium) (1.26.7)\n",
      "Requirement already satisfied: async-generator>=1.9 in /Users/dayvdoberne/opt/anaconda3/lib/python3.9/site-packages (from trio~=0.17->selenium) (1.10)\n",
      "Requirement already satisfied: outcome in /Users/dayvdoberne/opt/anaconda3/lib/python3.9/site-packages (from trio~=0.17->selenium) (1.1.0)\n",
      "Requirement already satisfied: sortedcontainers in /Users/dayvdoberne/opt/anaconda3/lib/python3.9/site-packages (from trio~=0.17->selenium) (2.4.0)\n",
      "Requirement already satisfied: sniffio in /Users/dayvdoberne/opt/anaconda3/lib/python3.9/site-packages (from trio~=0.17->selenium) (1.2.0)\n",
      "Requirement already satisfied: idna in /Users/dayvdoberne/opt/anaconda3/lib/python3.9/site-packages (from trio~=0.17->selenium) (3.2)\n",
      "Requirement already satisfied: attrs>=19.2.0 in /Users/dayvdoberne/opt/anaconda3/lib/python3.9/site-packages (from trio~=0.17->selenium) (21.2.0)\n",
      "Requirement already satisfied: wsproto>=0.14 in /Users/dayvdoberne/opt/anaconda3/lib/python3.9/site-packages (from trio-websocket~=0.9->selenium) (1.1.0)\n",
      "Requirement already satisfied: pyOpenSSL>=0.14 in /Users/dayvdoberne/opt/anaconda3/lib/python3.9/site-packages (from urllib3[secure,socks]~=1.26->selenium) (21.0.0)\n",
      "Requirement already satisfied: cryptography>=1.3.4 in /Users/dayvdoberne/opt/anaconda3/lib/python3.9/site-packages (from urllib3[secure,socks]~=1.26->selenium) (3.4.8)\n",
      "Requirement already satisfied: certifi in /Users/dayvdoberne/opt/anaconda3/lib/python3.9/site-packages (from urllib3[secure,socks]~=1.26->selenium) (2021.10.8)\n",
      "Requirement already satisfied: PySocks!=1.5.7,<2.0,>=1.5.6 in /Users/dayvdoberne/opt/anaconda3/lib/python3.9/site-packages (from urllib3[secure,socks]~=1.26->selenium) (1.7.1)\n",
      "Requirement already satisfied: cffi>=1.12 in /Users/dayvdoberne/opt/anaconda3/lib/python3.9/site-packages (from cryptography>=1.3.4->urllib3[secure,socks]~=1.26->selenium) (1.14.6)\n",
      "Requirement already satisfied: pycparser in /Users/dayvdoberne/opt/anaconda3/lib/python3.9/site-packages (from cffi>=1.12->cryptography>=1.3.4->urllib3[secure,socks]~=1.26->selenium) (2.20)\n",
      "Requirement already satisfied: six>=1.5.2 in /Users/dayvdoberne/opt/anaconda3/lib/python3.9/site-packages (from pyOpenSSL>=0.14->urllib3[secure,socks]~=1.26->selenium) (1.16.0)\n",
      "Requirement already satisfied: h11<1,>=0.9.0 in /Users/dayvdoberne/opt/anaconda3/lib/python3.9/site-packages (from wsproto>=0.14->trio-websocket~=0.9->selenium) (0.13.0)\n",
      "Note: you may need to restart the kernel to use updated packages.\n"
     ]
    }
   ],
   "source": [
    "pip install selenium"
   ]
  },
  {
   "cell_type": "code",
   "execution_count": 27,
   "id": "bd9a1d40",
   "metadata": {},
   "outputs": [],
   "source": [
    "from datetime import date, timedelta\n",
    "from selenium import webdriver\n",
    "from bs4 import BeautifulSoup\n",
    "import time, os"
   ]
  },
  {
   "cell_type": "code",
   "execution_count": 28,
   "id": "32ea80c5",
   "metadata": {},
   "outputs": [],
   "source": [
    "today = date.today()\n",
    "yesterday = today + timedelta(days = -1)\n",
    "yesterday_date = '-'.join([str(yesterday.year), str(yesterday.month), str(yesterday.day)])"
   ]
  },
  {
   "cell_type": "code",
   "execution_count": 29,
   "id": "2e992e56",
   "metadata": {},
   "outputs": [],
   "source": [
    "columns = ['date', 't1', 'pitcher', 't2', 'batter', 'inning', 'result', 'pitch_type', 'mph', \n",
    "           'rpm', 'vbreak', 'up_down', 'hbreak', 'left_right', 'count']"
   ]
  },
  {
   "cell_type": "code",
   "execution_count": 30,
   "id": "249701b1",
   "metadata": {},
   "outputs": [],
   "source": [
    "import pandas as pd\n",
    "import numpy as np"
   ]
  },
  {
   "cell_type": "code",
   "execution_count": 31,
   "id": "e9632bd8",
   "metadata": {},
   "outputs": [
    {
     "name": "stderr",
     "output_type": "stream",
     "text": [
      "/var/folders/4g/z8wcy4nn4vzgq33ts3mh1lm00000gn/T/ipykernel_10941/1577013552.py:3: DeprecationWarning: executable_path has been deprecated, please pass in a Service object\n",
      "  driver = webdriver.Chrome(chromedriver)\n"
     ]
    }
   ],
   "source": [
    "chromedriver = '/Applications/chromedriver'\n",
    "os.environ['webdriver.chrome.driver'] = chromedriver\n",
    "driver = webdriver.Chrome(chromedriver)"
   ]
  },
  {
   "cell_type": "code",
   "execution_count": 32,
   "id": "71543528",
   "metadata": {},
   "outputs": [
    {
     "name": "stdout",
     "output_type": "stream",
     "text": [
      "Break\n"
     ]
    }
   ],
   "source": [
    "target_date = yesterday_date\n",
    "path = 'https://baseballsavant.mlb.com/gamefeed?date=' + target_date + '&chartType=pitch&legendType=pitchName' + \\\n",
    "        '&playerType=pitcher&inning=&count=&pitchHand=&batSide=&descFilter=&ptFilter=&resultFilter=&hf=pitchVelocity#706856'\n",
    "driver.get(path)\n",
    "time.sleep(10)\n",
    "soup = BeautifulSoup(driver.page_source, 'html.parser')\n",
    "\n",
    "df = pd.DataFrame(columns = columns)\n",
    "games = soup.find_all('div', {'class': 'game-container step'})\n",
    "teams_left = soup.find_all('div', {'class':'team-left'})\n",
    "teams_right = soup.find_all('div', {'class':'team-right'})\n",
    "for game, team_left, team_right in zip(games, teams_left, teams_right):\n",
    "    try:\n",
    "        pitches = game.find('tbody').find_all('tr')\n",
    "\n",
    "        t1 = team_left.find('div', {'class':'team-name'}).text.replace('\\n', '').strip()\n",
    "\n",
    "        t2 = team_right.find('div', {'class':'team-name'}).text.replace('\\n', '').strip()\n",
    "\n",
    "    except:\n",
    "        print('Break')\n",
    "        break\n",
    "    count_b = 0\n",
    "    count_s = 0\n",
    "    for pitch in pitches[::-1]:\n",
    "        try:\n",
    "            row = pitch.find_all('span')\n",
    "\n",
    "            pitcher = row[1].text\n",
    "            batter = row[3].text\n",
    "            inning = int(row[7].text)\n",
    "            result = row[8].text\n",
    "            pitch_type = row[9].text\n",
    "            mph = float(row[10].text)\n",
    "            rpm = int(row[11].text)\n",
    "\n",
    "            vbreak = int(row[12].text)\n",
    "            up_down = row[13].text\n",
    "            hbreak = int(row[14].text)\n",
    "            l_r = row[15].text\n",
    "            entry = [target_date, t1, pitcher, t2, batter, inning, result, pitch_type, mph, rpm, vbreak, up_down, hbreak, l_r, (count_b, count_s)]\n",
    "            df.loc[len(df)] = entry\n",
    "        except:\n",
    "            pass\n",
    "        if ('Ball' in result) or ('Pitchout' in result): \n",
    "            count_b += 1\n",
    "        elif ('Strike' in result) or ('Missed Bunt' == result) or ('Foul Bunt' == result):\n",
    "            count_s += 1\n",
    "        elif 'Foul' in result:\n",
    "            if count_s < 2:\n",
    "                count_s += 1\n",
    "        if (count_b == 4) or (count_s == 3) or ('In play' in result) or ('Hit by Pitch' == result):\n",
    "            count_b = 0\n",
    "            count_s = 0"
   ]
  },
  {
   "cell_type": "code",
   "execution_count": 33,
   "id": "08f61bec",
   "metadata": {},
   "outputs": [],
   "source": [
    "result_dict = {'Ball': 'Ball',\n",
    "               'Foul': 'Foul',\n",
    "               'Called Strike': 'Strike',\n",
    "               'Swinging Strike': 'Strike',\n",
    "               'In play, out(s)': 'Contact',\n",
    "               'In play, no out': 'Contact',\n",
    "               'Ball In Dirt': 'Ball',\n",
    "               'In play, run(s)': 'Contact',\n",
    "               'Foul Tip': 'Strike',\n",
    "               'Hit By Pitch': 'Ball',\n",
    "               'Foul Bunt': 'Strike',\n",
    "               'Missed Bunt': 'Strike',\n",
    "               'Pitchout': 'Ball'}\n",
    "\n",
    "def group_pitches(x):\n",
    "    if 'Fastball' in x:\n",
    "        return 'Fastball'\n",
    "    elif 'Curve' in x:\n",
    "        return 'Curveball'\n",
    "    elif ('Knuc' in x) or (x == 'Splitter'):\n",
    "        return 'Splitter'\n",
    "    else:\n",
    "        return x\n"
   ]
  },
  {
   "cell_type": "code",
   "execution_count": 34,
   "id": "c5d4f572",
   "metadata": {},
   "outputs": [],
   "source": [
    "df['left_right_raw'] = df['left_right']\n",
    "df['result_raw'] = df['result']\n",
    "df['pitch_type_raw'] = df['pitch_type']\n",
    "\n",
    "df['left_right'] = df['left_right'].apply(lambda x: x == '←')\n",
    "df['result'] = df['result'].map(result_dict)\n",
    "df['pitch_type'] = df['pitch_type'].apply(group_pitches)"
   ]
  },
  {
   "cell_type": "code",
   "execution_count": 35,
   "id": "962f1ce1",
   "metadata": {},
   "outputs": [],
   "source": [
    "pitch_types = ['Fastball', 'Slider', 'Sinker', 'Changeup', 'Curveball', 'Splitter', 'Cutter']"
   ]
  },
  {
   "cell_type": "code",
   "execution_count": 36,
   "id": "0d8c3467",
   "metadata": {},
   "outputs": [],
   "source": [
    "from sklearn.ensemble import RandomForestClassifier\n",
    "from joblib import load"
   ]
  },
  {
   "cell_type": "code",
   "execution_count": 37,
   "id": "50ede4c9",
   "metadata": {},
   "outputs": [],
   "source": [
    "rf_dict = {}\n",
    "for pitch_type in pitch_types:\n",
    "    rf_dict[pitch_type] = load(pitch_type + '.rf')"
   ]
  },
  {
   "cell_type": "code",
   "execution_count": 38,
   "id": "5e9ae17e",
   "metadata": {},
   "outputs": [],
   "source": [
    "def calculate_fifax(args):\n",
    "    p_type, mph, rpm, vbreak, hbreak, is_left = args[0], args[1], args[2], args[3], args[4], args[5]\n",
    "    X = np.array([mph, rpm, vbreak, hbreak, is_left]).reshape(1,5)\n",
    "    return rf_dict[p_type].predict_proba(X)[0][0]"
   ]
  },
  {
   "cell_type": "code",
   "execution_count": 39,
   "id": "a8571105",
   "metadata": {},
   "outputs": [],
   "source": [
    "df['fifax'] = df[['pitch_type', 'mph', 'rpm', 'vbreak', 'hbreak', 'left_right']].apply(calculate_fifax, axis = 1)"
   ]
  },
  {
   "cell_type": "code",
   "execution_count": 40,
   "id": "808c561f",
   "metadata": {},
   "outputs": [],
   "source": [
    "df.to_csv(target_date + '.csv')"
   ]
  },
  {
   "cell_type": "code",
   "execution_count": 41,
   "id": "a0d81a60",
   "metadata": {},
   "outputs": [
    {
     "name": "stdout",
     "output_type": "stream",
     "text": [
      "Requirement already satisfied: google-cloud-storage in /Users/dayvdoberne/opt/anaconda3/lib/python3.9/site-packages (2.2.1)\n",
      "Requirement already satisfied: google-cloud-core<3.0dev,>=1.6.0 in /Users/dayvdoberne/opt/anaconda3/lib/python3.9/site-packages (from google-cloud-storage) (2.2.3)\n",
      "Requirement already satisfied: google-resumable-media>=2.3.2 in /Users/dayvdoberne/opt/anaconda3/lib/python3.9/site-packages (from google-cloud-storage) (2.3.2)\n",
      "Requirement already satisfied: requests<3.0.0dev,>=2.18.0 in /Users/dayvdoberne/opt/anaconda3/lib/python3.9/site-packages (from google-cloud-storage) (2.26.0)\n",
      "Requirement already satisfied: google-auth<3.0dev,>=1.25.0 in /Users/dayvdoberne/opt/anaconda3/lib/python3.9/site-packages (from google-cloud-storage) (2.6.3)\n",
      "Requirement already satisfied: google-api-core!=2.0.*,!=2.1.*,!=2.2.*,!=2.3.0,<3.0.0dev,>=1.31.5 in /Users/dayvdoberne/opt/anaconda3/lib/python3.9/site-packages (from google-cloud-storage) (2.7.1)\n",
      "Requirement already satisfied: protobuf in /Users/dayvdoberne/opt/anaconda3/lib/python3.9/site-packages (from google-cloud-storage) (3.20.0)\n",
      "Requirement already satisfied: googleapis-common-protos<2.0dev,>=1.52.0 in /Users/dayvdoberne/opt/anaconda3/lib/python3.9/site-packages (from google-api-core!=2.0.*,!=2.1.*,!=2.2.*,!=2.3.0,<3.0.0dev,>=1.31.5->google-cloud-storage) (1.56.0)\n",
      "Requirement already satisfied: pyasn1-modules>=0.2.1 in /Users/dayvdoberne/opt/anaconda3/lib/python3.9/site-packages (from google-auth<3.0dev,>=1.25.0->google-cloud-storage) (0.2.8)\n",
      "Requirement already satisfied: six>=1.9.0 in /Users/dayvdoberne/opt/anaconda3/lib/python3.9/site-packages (from google-auth<3.0dev,>=1.25.0->google-cloud-storage) (1.16.0)\n",
      "Requirement already satisfied: rsa<5,>=3.1.4 in /Users/dayvdoberne/opt/anaconda3/lib/python3.9/site-packages (from google-auth<3.0dev,>=1.25.0->google-cloud-storage) (4.8)\n",
      "Requirement already satisfied: cachetools<6.0,>=2.0.0 in /Users/dayvdoberne/opt/anaconda3/lib/python3.9/site-packages (from google-auth<3.0dev,>=1.25.0->google-cloud-storage) (5.0.0)\n",
      "Requirement already satisfied: google-crc32c<2.0dev,>=1.0 in /Users/dayvdoberne/opt/anaconda3/lib/python3.9/site-packages (from google-resumable-media>=2.3.2->google-cloud-storage) (1.3.0)\n",
      "Requirement already satisfied: pyasn1<0.5.0,>=0.4.6 in /Users/dayvdoberne/opt/anaconda3/lib/python3.9/site-packages (from pyasn1-modules>=0.2.1->google-auth<3.0dev,>=1.25.0->google-cloud-storage) (0.4.8)\n",
      "Requirement already satisfied: urllib3<1.27,>=1.21.1 in /Users/dayvdoberne/opt/anaconda3/lib/python3.9/site-packages (from requests<3.0.0dev,>=2.18.0->google-cloud-storage) (1.26.7)\n",
      "Requirement already satisfied: certifi>=2017.4.17 in /Users/dayvdoberne/opt/anaconda3/lib/python3.9/site-packages (from requests<3.0.0dev,>=2.18.0->google-cloud-storage) (2021.10.8)\n",
      "Requirement already satisfied: charset-normalizer~=2.0.0 in /Users/dayvdoberne/opt/anaconda3/lib/python3.9/site-packages (from requests<3.0.0dev,>=2.18.0->google-cloud-storage) (2.0.4)\n",
      "Requirement already satisfied: idna<4,>=2.5 in /Users/dayvdoberne/opt/anaconda3/lib/python3.9/site-packages (from requests<3.0.0dev,>=2.18.0->google-cloud-storage) (3.2)\n",
      "Note: you may need to restart the kernel to use updated packages.\n"
     ]
    }
   ],
   "source": [
    "pip install google-cloud-storage"
   ]
  },
  {
   "cell_type": "code",
   "execution_count": 42,
   "id": "01ab06ea",
   "metadata": {
    "scrolled": true
   },
   "outputs": [],
   "source": [
    "from google.cloud import storage"
   ]
  },
  {
   "cell_type": "code",
   "execution_count": 53,
   "id": "20d2aaf7",
   "metadata": {},
   "outputs": [],
   "source": [
    "def upload_blob(bucket_name, source_file_name, destination_blob_name):\n",
    "    \n",
    "    storage_client = storage.Client()\n",
    "    bucket = storage_client.bucket(bucket_name)\n",
    "    blob = bucket.blob(destination_blob_name)\n",
    "    \n",
    "    blob.upload_from_filename(source_file_name)\n",
    "    \n",
    "    print('{} with contents {} uploaded to {}'.format(destination_blob_name, source_file_name, bucket_name))\n",
    "    \n",
    "    "
   ]
  },
  {
   "cell_type": "code",
   "execution_count": 57,
   "id": "3bde1ded",
   "metadata": {},
   "outputs": [
    {
     "name": "stdout",
     "output_type": "stream",
     "text": [
      "pitch-data/2022-4-7.csv with contents 2022-4-7.csv uploaded to the-filthiest\n"
     ]
    }
   ],
   "source": [
    "os.environ['GOOGLE_APPLICATION_CREDENTIALS'] = 'marine-tractor-346520-426bbf8c0e09.json'\n",
    "upload_blob('the-filthiest', target_date + '.csv', 'pitch-data/' + target_date + '.csv')"
   ]
  },
  {
   "cell_type": "code",
   "execution_count": null,
   "id": "328af016",
   "metadata": {},
   "outputs": [],
   "source": []
  }
 ],
 "metadata": {
  "kernelspec": {
   "display_name": "Python (engineering)",
   "language": "python",
   "name": "engineering"
  },
  "language_info": {
   "codemirror_mode": {
    "name": "ipython",
    "version": 3
   },
   "file_extension": ".py",
   "mimetype": "text/x-python",
   "name": "python",
   "nbconvert_exporter": "python",
   "pygments_lexer": "ipython3",
   "version": "3.9.7"
  }
 },
 "nbformat": 4,
 "nbformat_minor": 5
}
