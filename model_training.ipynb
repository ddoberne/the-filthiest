{
 "cells": [
  {
   "cell_type": "code",
   "execution_count": 93,
   "id": "0c57d491",
   "metadata": {},
   "outputs": [],
   "source": [
    "%reset -fs"
   ]
  },
  {
   "cell_type": "code",
   "execution_count": 94,
   "id": "108ddf97",
   "metadata": {},
   "outputs": [],
   "source": [
    "import pandas as pd\n",
    "import numpy as np\n",
    "import os\n",
    "from sklearn.model_selection import cross_val_score\n",
    "from sklearn.model_selection import train_test_split\n",
    "from sklearn.ensemble import RandomForestClassifier"
   ]
  },
  {
   "cell_type": "markdown",
   "id": "ade49899",
   "metadata": {},
   "source": [
    "To-do:\n",
    "- Load data\n",
    "- Categorize pitches\n",
    "- Categorize outcomes\n",
    "- Establish features\n",
    "- Train RF model for each pitch type"
   ]
  },
  {
   "cell_type": "markdown",
   "id": "ad9dbaea",
   "metadata": {},
   "source": [
    "Concat all .csv files for 2021's regular season"
   ]
  },
  {
   "cell_type": "code",
   "execution_count": 95,
   "id": "3be778b6",
   "metadata": {},
   "outputs": [
    {
     "name": "stdout",
     "output_type": "stream",
     "text": [
      "4\n",
      "5\n",
      "6\n",
      "7\n",
      "8\n",
      "9\n",
      "10\n"
     ]
    }
   ],
   "source": [
    "columns = ['date', 't1', 'pitcher', 't2', 'batter', 'inning', 'result', 'pitch_type', \n",
    "           'mph', 'rpm', 'vbreak', 'up_down', 'hbreak', 'left_right', 'count']\n",
    "df = pd.DataFrame(columns = columns)\n",
    "# Reading in all csvs and appending to one dataframe\n",
    "for month in range(4, 11):\n",
    "    print(month)\n",
    "    files = os.listdir(str(month) + '/')\n",
    "    df_month = pd.concat([pd.read_csv(str(month) + '/' + file, index_col = 0) for file in files if file.endswith('.csv')], ignore_index = True)\n",
    "    if len(df) == 0:\n",
    "        df = df_month\n",
    "    else:\n",
    "        df = pd.concat([df, df_month], ignore_index = True)\n",
    "    \n",
    "            "
   ]
  },
  {
   "cell_type": "markdown",
   "id": "12a9a5b8",
   "metadata": {},
   "source": [
    "Pitch types:\n",
    "- 4-Seam Fastball\n",
    "- Slider\n",
    "- Sinker\n",
    "- Changeup\n",
    "- Curveball\n",
    "- Cutter\n",
    "- Knuckle Curve\n",
    "- Splitter\n",
    "- Fastball\n",
    "- Slow Curve\n",
    "- Eephus\n",
    "- Knucle Ball"
   ]
  },
  {
   "cell_type": "markdown",
   "id": "9887f673",
   "metadata": {},
   "source": [
    "Groups:\n",
    "- 4-Seam/Fastball\n",
    "- Slider\n",
    "- Sinker\n",
    "- Changeup\n",
    "- Curve/Knuckle Curve/Slow Curve\n",
    "- Knuckle Ball/ Splitter\n",
    "- Cutter"
   ]
  },
  {
   "cell_type": "markdown",
   "id": "f2affc85",
   "metadata": {},
   "source": [
    "Result types:\n",
    "- Ball\n",
    "- Foul\n",
    "- Called Strike\n",
    "- Swinging Strike\n",
    "- In play, out(s)\n",
    "- In play, no out\n",
    "- Ball in Dirt\n",
    "- In play, run(s)\n",
    "- Foul Tip\n",
    "- Hit By Pitch\n",
    "- Foul Bunt\n",
    "- Missed Bunt\n",
    "- Pitchout\n",
    "\n",
    "Groups:\n",
    "- Strikes\n",
    "- Balls - Filter out\n",
    "- Contact\n",
    "- Fouls - Filter out"
   ]
  },
  {
   "cell_type": "markdown",
   "id": "83fe3f99",
   "metadata": {},
   "source": [
    "Very important -- make sure numeric values are read as numeric!"
   ]
  },
  {
   "cell_type": "code",
   "execution_count": 96,
   "id": "bbf0f199",
   "metadata": {},
   "outputs": [],
   "source": [
    "df['rpm'] = df['rpm'].apply(int)\n",
    "df['vbreak'] = df['vbreak'].apply(int)\n",
    "df['hbreak'] = df['hbreak'].apply(int)"
   ]
  },
  {
   "cell_type": "code",
   "execution_count": 97,
   "id": "256a55c1",
   "metadata": {
    "scrolled": true
   },
   "outputs": [
    {
     "data": {
      "text/plain": [
       "←    327578\n",
       "→    260159\n",
       "Name: left_right, dtype: int64"
      ]
     },
     "execution_count": 97,
     "metadata": {},
     "output_type": "execute_result"
    }
   ],
   "source": [
    "df['left_right'].value_counts()"
   ]
  },
  {
   "cell_type": "code",
   "execution_count": 98,
   "id": "8fbdb21c",
   "metadata": {},
   "outputs": [],
   "source": [
    "df['left_right'] = df['left_right'].apply(lambda x: x == '←')"
   ]
  },
  {
   "cell_type": "markdown",
   "id": "913290c8",
   "metadata": {},
   "source": [
    "Grouping results and pitch types"
   ]
  },
  {
   "cell_type": "code",
   "execution_count": 99,
   "id": "dfddd74a",
   "metadata": {},
   "outputs": [],
   "source": [
    "result_dict = {'Ball': 'Ball',\n",
    "               'Foul': 'Foul',\n",
    "               'Called Strike': 'Strike',\n",
    "               'Swinging Strike': 'Strike',\n",
    "               'In play, out(s)': 'Contact',\n",
    "               'In play, no out': 'Contact',\n",
    "               'Ball In Dirt': 'Ball',\n",
    "               'In play, run(s)': 'Contact',\n",
    "               'Foul Tip': 'Strike',\n",
    "               'Hit By Pitch': 'Ball',\n",
    "               'Foul Bunt': 'Strike',\n",
    "               'Missed Bunt': 'Strike',\n",
    "               'Pitchout': 'Ball'}"
   ]
  },
  {
   "cell_type": "code",
   "execution_count": 100,
   "id": "d9e55648",
   "metadata": {},
   "outputs": [],
   "source": [
    "def group_pitches(x):\n",
    "    if 'Fastball' in x:\n",
    "        return 'Fastball'\n",
    "    elif 'Curve' in x:\n",
    "        return 'Curveball'\n",
    "    elif ('Knuc' in x) or (x == 'Splitter'):\n",
    "        return 'Splitter'\n",
    "    else:\n",
    "        return x\n"
   ]
  },
  {
   "cell_type": "code",
   "execution_count": 101,
   "id": "23a322c0",
   "metadata": {
    "scrolled": true
   },
   "outputs": [
    {
     "data": {
      "text/plain": [
       "Ball               201182\n",
       "Foul               107570\n",
       "Called Strike       99187\n",
       "Swinging Strike     68763\n",
       "In play, out(s)     67077\n",
       "In play, no out     23025\n",
       "Ball In Dirt        14730\n",
       "In play, run(s)     13612\n",
       "Foul Tip             5782\n",
       "Hit By Pitch         1784\n",
       "Foul Bunt            1302\n",
       "Missed Bunt           311\n",
       "Pitchout               25\n",
       "Foul Pitchout           1\n",
       "Name: result, dtype: int64"
      ]
     },
     "execution_count": 101,
     "metadata": {},
     "output_type": "execute_result"
    }
   ],
   "source": [
    "df['result'].value_counts()"
   ]
  },
  {
   "cell_type": "code",
   "execution_count": 102,
   "id": "731029ed",
   "metadata": {},
   "outputs": [],
   "source": [
    "df['result'] = df['result'].map(result_dict)\n",
    "df['pitch_type'] = df['pitch_type'].apply(group_pitches)"
   ]
  },
  {
   "cell_type": "code",
   "execution_count": 103,
   "id": "0f0075cf",
   "metadata": {},
   "outputs": [
    {
     "data": {
      "text/plain": [
       "Ball       217721\n",
       "Strike     175345\n",
       "Foul       107570\n",
       "Contact    103714\n",
       "Name: result, dtype: int64"
      ]
     },
     "execution_count": 103,
     "metadata": {},
     "output_type": "execute_result"
    }
   ],
   "source": [
    "df['result'].value_counts()"
   ]
  },
  {
   "cell_type": "markdown",
   "id": "0c128661",
   "metadata": {},
   "source": [
    "Only keeping pitches that resulted in 'Strike' or 'Contact'"
   ]
  },
  {
   "cell_type": "code",
   "execution_count": 104,
   "id": "aad0ab0f",
   "metadata": {},
   "outputs": [],
   "source": [
    "df = df.dropna()\n",
    "df = df.loc[(df['result'] == 'Strike') | (df['result'] == 'Contact')]\n",
    "codes, uniques = pd.factorize(df['result'])\n",
    "df['result'] = codes"
   ]
  },
  {
   "cell_type": "code",
   "execution_count": 106,
   "id": "ad4bc1b3",
   "metadata": {},
   "outputs": [],
   "source": [
    "\n",
    "pitch_types = ['Fastball', 'Slider', 'Sinker', 'Changeup', 'Curveball', 'Splitter', 'Cutter']\n",
    "#pitch_type = pitch_types[1]\n",
    "\n"
   ]
  },
  {
   "cell_type": "markdown",
   "id": "af9161f1",
   "metadata": {},
   "source": [
    "Features:\n",
    "- MPH\n",
    "- RPM\n",
    "- VBreak\n",
    "- HBreak\n",
    "- Break is Left"
   ]
  },
  {
   "cell_type": "code",
   "execution_count": 107,
   "id": "02f0f0fb",
   "metadata": {},
   "outputs": [],
   "source": [
    "from joblib import dump"
   ]
  },
  {
   "cell_type": "code",
   "execution_count": 110,
   "id": "616d40a5",
   "metadata": {},
   "outputs": [],
   "source": [
    "from sklearn.metrics import f1_score"
   ]
  },
  {
   "cell_type": "code",
   "execution_count": 140,
   "id": "4e8c4828",
   "metadata": {},
   "outputs": [],
   "source": [
    "# The depth of the trees for each model. These are selected for by finding the inflection point for accuracy and F1\n",
    "depth_dict = {\n",
    "    'Fastball':15,\n",
    "    'Slider':17,\n",
    "    'Sinker':13,\n",
    "    'Changeup':7,\n",
    "    'Curveball':15,\n",
    "    'Splitter':13,\n",
    "    'Cutter':11,\n",
    "}"
   ]
  },
  {
   "cell_type": "code",
   "execution_count": 148,
   "id": "bdc176fd",
   "metadata": {
    "scrolled": true
   },
   "outputs": [
    {
     "name": "stdout",
     "output_type": "stream",
     "text": [
      "Mean: 0.5078805628525402\n",
      "Min: 0.07510830818618985\n",
      "Max: 0.9055503086368138\n",
      "F1 score: 0.4638751058937432\n",
      "Random Forest val score for Fastball: 0.536\n",
      "---\n",
      "Mean: 0.5084689373874789\n",
      "Min: 0.13754275054255083\n",
      "Max: 0.88512401509218\n",
      "F1 score: 0.42672820727997485\n",
      "Random Forest val score for Slider: 0.510\n",
      "---\n",
      "Mean: 0.5110198145302014\n",
      "Min: 0.3002856629729655\n",
      "Max: 0.850185208382503\n",
      "F1 score: 0.49655827201519104\n",
      "Random Forest val score for Sinker: 0.530\n",
      "---\n",
      "Mean: 0.500559539905414\n",
      "Min: 0.21910814136620996\n",
      "Max: 0.9551131460569933\n",
      "F1 score: 0.49941067519784477\n",
      "Random Forest val score for Changeup: 0.517\n",
      "---\n",
      "Mean: 0.5251771466119994\n",
      "Min: 0.20850899879659107\n",
      "Max: 0.923857548062386\n",
      "F1 score: 0.3615363953800698\n",
      "Random Forest val score for Curveball: 0.588\n",
      "---\n",
      "Mean: 0.5198740025423233\n",
      "Min: 0.15372710162646666\n",
      "Max: 0.8813548586460822\n",
      "F1 score: 0.4260355029585799\n",
      "Random Forest val score for Splitter: 0.533\n",
      "---\n",
      "Mean: 0.5194904112052127\n",
      "Min: 0.262804706122096\n",
      "Max: 0.9523877179303541\n",
      "F1 score: 0.4557495484647803\n",
      "Random Forest val score for Cutter: 0.523\n",
      "---\n"
     ]
    }
   ],
   "source": [
    "# Training RF for each pitch type, then saving the file to disk\n",
    "for pitch_type in pitch_types:\n",
    "    df_filter = df.loc[df['pitch_type'] == pitch_type]\n",
    "    X = df_filter[['mph', 'rpm', 'vbreak', 'hbreak', 'left_right']]\n",
    "    y = df_filter['result']\n",
    "    X_train, X_test, y_train, y_test = train_test_split(X, y, test_size=0.2, random_state=22)\n",
    "    #X_train, X_val, y_train, y_val = train_test_split(X_train, y_train, test_size=0.25, random_state=22)\n",
    "    estimators = 128\n",
    "    max_depth = 11\n",
    "    # Be sure to weight classes appropriately to improve F1\n",
    "    rf = RandomForestClassifier(n_estimators = estimators, max_depth = max_depth, criterion = 'entropy',\n",
    "                               class_weight = {0:y_test.mean(),1:1-y_test.mean()})\n",
    "    scores = cross_val_score(rf, X_train, y_train, cv = 5)\n",
    "    #print(f'Estimators: {estimators}')\n",
    "    #print(f'Max depth: {max_depth}')\n",
    "    #print(f'Cross val score: {scores.mean()}')\n",
    "    rf.fit(X_train, y_train)\n",
    "    print(f'Mean: {rf.predict_proba(X_test)[:,0].mean()}')\n",
    "    print(f'Min: {rf.predict_proba(X_test)[:,0].min()}')\n",
    "    print(f'Max: {rf.predict_proba(X_test)[:,0].max()}')\n",
    "    print(f'F1 score: {f1_score(y_test, rf.predict(X_test))}')\n",
    "    print(f'Random Forest val score for {pitch_type}: {rf.score(X_test, y_test):.3f}')\n",
    "    print('---')\n",
    "    dump(rf, pitch_type + '2.rf')"
   ]
  },
  {
   "cell_type": "markdown",
   "id": "05082d5f",
   "metadata": {},
   "source": [
    "Model Scores:\n",
    "- Fastball: .633\n",
    "- Slider: 0.672\n",
    "- Sinker 0.579\n",
    "- Changeup 0.569\n",
    "- Curve/Knuckle Curve/Slow Curve 0.683\n",
    "- Knuckle Ball/ Splitter 0.623\n",
    "- Cutter 0.614"
   ]
  },
  {
   "cell_type": "markdown",
   "id": "f8a74e53",
   "metadata": {},
   "source": [
    "Model V2 Scores (acc/F1):\n",
    "- Fastball: .603/.318\n",
    "- Slider: 0.647/.226\n",
    "- Sinker 0.552/.387\n",
    "- Changeup 0.545/.414\n",
    "- Curve/Knuckle Curve/Slow Curve 0.659/.190\n",
    "- Knuckle Ball/ Splitter 0.605/.347\n",
    "- Cutter 0.559/.346"
   ]
  },
  {
   "cell_type": "code",
   "execution_count": 133,
   "id": "2a84f6cc",
   "metadata": {},
   "outputs": [
    {
     "data": {
      "text/plain": [
       "array([0.41799957, 0.46875   , 0.59479242, ..., 0.25572917, 0.52326679,\n",
       "       0.7578125 ])"
      ]
     },
     "execution_count": 133,
     "metadata": {},
     "output_type": "execute_result"
    }
   ],
   "source": [
    "rf.predict_proba(X_test)[:,0].mean()\n",
    "rf.predict_proba(X_test)[:,0].max()\n",
    "rf.predict_proba(X_test)[:,0].min()\n"
   ]
  },
  {
   "cell_type": "code",
   "execution_count": 134,
   "id": "9d16aee1",
   "metadata": {},
   "outputs": [
    {
     "data": {
      "text/plain": [
       "(array([ 31.,  88., 224., 381., 538., 791., 756., 590., 299.,  89.]),\n",
       " array([0.08590411, 0.17591123, 0.26591835, 0.35592547, 0.44593259,\n",
       "        0.53593971, 0.62594683, 0.71595395, 0.80596106, 0.89596818,\n",
       "        0.9859753 ]),\n",
       " <BarContainer object of 10 artists>)"
      ]
     },
     "execution_count": 134,
     "metadata": {},
     "output_type": "execute_result"
    },
    {
     "data": {
      "image/png": "[encoded data removed]",
      "text/plain": [
       "<Figure size 432x288 with 1 Axes>"
      ]
     },
     "metadata": {
      "needs_background": "light"
     },
     "output_type": "display_data"
    }
   ],
   "source": [
    "import matplotlib.pyplot as plt\n",
    "plt.hist(rf.predict_proba(X_test)[:,0])"
   ]
  },
  {
   "cell_type": "code",
   "execution_count": null,
   "id": "c445f576",
   "metadata": {},
   "outputs": [],
   "source": []
  }
 ],
 "metadata": {
  "kernelspec": {
   "display_name": "Python (engineering)",
   "language": "python",
   "name": "engineering"
  },
  "language_info": {
   "codemirror_mode": {
    "name": "ipython",
    "version": 3
   },
   "file_extension": ".py",
   "mimetype": "text/x-python",
   "name": "python",
   "nbconvert_exporter": "python",
   "pygments_lexer": "ipython3",
   "version": "3.9.7"
  }
 },
 "nbformat": 4,
 "nbformat_minor": 5
}
