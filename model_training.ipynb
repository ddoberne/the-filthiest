{
 "cells": [
  {
   "cell_type": "code",
   "execution_count": 56,
   "id": "0c57d491",
   "metadata": {},
   "outputs": [],
   "source": [
    "%reset -fs"
   ]
  },
  {
   "cell_type": "code",
   "execution_count": 57,
   "id": "43e4ad5a",
   "metadata": {},
   "outputs": [],
   "source": [
    "#!conda install -y -c conda-forge xgboost"
   ]
  },
  {
   "cell_type": "code",
   "execution_count": 58,
   "id": "108ddf97",
   "metadata": {},
   "outputs": [],
   "source": [
    "import pandas as pd\n",
    "import numpy as np\n",
    "import os\n",
    "from sklearn.model_selection import cross_val_score\n",
    "from sklearn.model_selection import train_test_split\n",
    "from sklearn.ensemble import RandomForestClassifier"
   ]
  },
  {
   "cell_type": "code",
   "execution_count": null,
   "id": "90cf7def",
   "metadata": {},
   "outputs": [],
   "source": []
  },
  {
   "cell_type": "code",
   "execution_count": null,
   "id": "aba2c052",
   "metadata": {},
   "outputs": [],
   "source": []
  },
  {
   "cell_type": "code",
   "execution_count": 59,
   "id": "3be778b6",
   "metadata": {},
   "outputs": [
    {
     "name": "stdout",
     "output_type": "stream",
     "text": [
      "4\n",
      "5\n",
      "6\n",
      "7\n",
      "8\n",
      "9\n",
      "10\n"
     ]
    }
   ],
   "source": [
    "columns = ['date', 't1', 'pitcher', 't2', 'batter', 'inning', 'result', 'pitch_type', \n",
    "           'mph', 'rpm', 'vbreak', 'up_down', 'hbreak', 'left_right', 'count']\n",
    "df = pd.DataFrame(columns = columns)\n",
    "for month in range(4, 11):\n",
    "    print(month)\n",
    "    files = os.listdir(str(month) + '/')\n",
    "    df_month = pd.concat([pd.read_csv(str(month) + '/' + file, index_col = 0) for file in files if file.endswith('.csv')], ignore_index = True)\n",
    "    if len(df) == 0:\n",
    "        df = df_month\n",
    "    else:\n",
    "        df = pd.concat([df, df_month], ignore_index = True)\n",
    "    \n",
    "            "
   ]
  },
  {
   "cell_type": "markdown",
   "id": "6cf0cd7a",
   "metadata": {},
   "source": [
    "Pitch types:\n",
    "- 4-Seam Fastball\n",
    "- Slider\n",
    "- Sinker\n",
    "- Changeup\n",
    "- Curveball\n",
    "- Cutter\n",
    "- Knuckle Curve\n",
    "- Splitter\n",
    "- Fastball\n",
    "- Slow Curve\n",
    "- Eephus\n",
    "- Knucle Ball"
   ]
  },
  {
   "cell_type": "markdown",
   "id": "8afc8063",
   "metadata": {},
   "source": [
    "Groups:\n",
    "- 4-Seam/Fastball\n",
    "- Slider\n",
    "- Sinker\n",
    "- Changeup\n",
    "- Curve/Knuckle Curve/Slow Curve\n",
    "- Knuckle Ball/ Splitter\n",
    "- Cutter"
   ]
  },
  {
   "cell_type": "markdown",
   "id": "6c58f1ff",
   "metadata": {},
   "source": [
    "Result types:\n",
    "- Ball\n",
    "- Foul\n",
    "- Called Strike\n",
    "- Swinging Strike\n",
    "- In play, out(s)\n",
    "- In play, no out\n",
    "- Ball in Dirt\n",
    "- In play, run(s)\n",
    "- Foul Tip\n",
    "- Hit By Pitch\n",
    "- Foul Bunt\n",
    "- Missed Bunt\n",
    "- Pitchout\n",
    "\n",
    "Groups:\n",
    "- Strikes\n",
    "- Balls - Filter out\n",
    "- Contact\n",
    "- Fouls - Filter out"
   ]
  },
  {
   "cell_type": "code",
   "execution_count": 60,
   "id": "3ea596fa",
   "metadata": {},
   "outputs": [],
   "source": [
    "df['rpm'] = df['rpm'].apply(int)\n",
    "df['vbreak'] = df['vbreak'].apply(int)\n",
    "df['hbreak'] = df['hbreak'].apply(int)"
   ]
  },
  {
   "cell_type": "code",
   "execution_count": 61,
   "id": "ebb986af",
   "metadata": {
    "scrolled": true
   },
   "outputs": [
    {
     "data": {
      "text/plain": [
       "←    327578\n",
       "→    260159\n",
       "Name: left_right, dtype: int64"
      ]
     },
     "execution_count": 61,
     "metadata": {},
     "output_type": "execute_result"
    }
   ],
   "source": [
    "df['left_right'].value_counts()"
   ]
  },
  {
   "cell_type": "code",
   "execution_count": 62,
   "id": "d67fcf29",
   "metadata": {},
   "outputs": [],
   "source": [
    "df['left_right'] = df['left_right'].apply(lambda x: x == '←')"
   ]
  },
  {
   "cell_type": "code",
   "execution_count": 65,
   "id": "cb20b89b",
   "metadata": {},
   "outputs": [],
   "source": [
    "result_dict = {'Ball': 'Ball',\n",
    "               'Foul': 'Foul',\n",
    "               'Called Strike': 'Strike',\n",
    "               'Swinging Strike': 'Strike',\n",
    "               'In play, out(s)': 'Contact',\n",
    "               'In play, no out': 'Contact',\n",
    "               'Ball In Dirt': 'Ball',\n",
    "               'In play, run(s)': 'Contact',\n",
    "               'Foul Tip': 'Strike',\n",
    "               'Hit By Pitch': 'Ball',\n",
    "               'Foul Bunt': 'Strike',\n",
    "               'Missed Bunt': 'Strike',\n",
    "               'Pitchout': 'Ball'}"
   ]
  },
  {
   "cell_type": "code",
   "execution_count": 66,
   "id": "7e44726a",
   "metadata": {},
   "outputs": [],
   "source": [
    "def group_pitches(x):\n",
    "    if 'Fastball' in x:\n",
    "        return 'Fastball'\n",
    "    elif 'Curve' in x:\n",
    "        return 'Curveball'\n",
    "    elif ('Knuc' in x) or (x == 'Splitter'):\n",
    "        return 'Splitter'\n",
    "    else:\n",
    "        return x\n"
   ]
  },
  {
   "cell_type": "code",
   "execution_count": 67,
   "id": "5052ddac",
   "metadata": {
    "scrolled": true
   },
   "outputs": [
    {
     "data": {
      "text/plain": [
       "Ball               201182\n",
       "Foul               107570\n",
       "Called Strike       99187\n",
       "Swinging Strike     68763\n",
       "In play, out(s)     67077\n",
       "In play, no out     23025\n",
       "Ball In Dirt        14730\n",
       "In play, run(s)     13612\n",
       "Foul Tip             5782\n",
       "Hit By Pitch         1784\n",
       "Foul Bunt            1302\n",
       "Missed Bunt           311\n",
       "Pitchout               25\n",
       "Foul Pitchout           1\n",
       "Name: result, dtype: int64"
      ]
     },
     "execution_count": 67,
     "metadata": {},
     "output_type": "execute_result"
    }
   ],
   "source": [
    "df['result'].value_counts()"
   ]
  },
  {
   "cell_type": "code",
   "execution_count": 68,
   "id": "26fae47c",
   "metadata": {},
   "outputs": [],
   "source": [
    "df['result'] = df['result'].map(result_dict)\n",
    "df['pitch_type'] = df['pitch_type'].apply(group_pitches)"
   ]
  },
  {
   "cell_type": "code",
   "execution_count": 69,
   "id": "98c2c3f6",
   "metadata": {},
   "outputs": [
    {
     "data": {
      "text/plain": [
       "Ball       202991\n",
       "Strike     175345\n",
       "Foul       107570\n",
       "Contact    103714\n",
       "Name: result, dtype: int64"
      ]
     },
     "execution_count": 69,
     "metadata": {},
     "output_type": "execute_result"
    }
   ],
   "source": [
    "df['result'].value_counts()"
   ]
  },
  {
   "cell_type": "code",
   "execution_count": null,
   "id": "e23c72a2",
   "metadata": {},
   "outputs": [],
   "source": []
  },
  {
   "cell_type": "code",
   "execution_count": 70,
   "id": "596dde1b",
   "metadata": {},
   "outputs": [],
   "source": [
    "df = df.dropna()\n",
    "df = df.loc[(df['result'] == 'Strike') | (df['result'] == 'Contact')]\n",
    "codes, uniques = pd.factorize(df['result'])\n",
    "df['result'] = codes"
   ]
  },
  {
   "cell_type": "code",
   "execution_count": 72,
   "id": "d6f2a977",
   "metadata": {},
   "outputs": [
    {
     "data": {
      "text/plain": [
       "Index(['Strike', 'Contact'], dtype='object')"
      ]
     },
     "execution_count": 72,
     "metadata": {},
     "output_type": "execute_result"
    }
   ],
   "source": [
    "uniques"
   ]
  },
  {
   "cell_type": "code",
   "execution_count": 73,
   "id": "af9f3d2e",
   "metadata": {},
   "outputs": [],
   "source": [
    "\n",
    "pitch_types = ['Fastball', 'Slider', 'Sinker', 'Changeup', 'Curveball', 'Splitter', 'Cutter']\n",
    "#pitch_type = pitch_types[1]\n",
    "\n"
   ]
  },
  {
   "cell_type": "markdown",
   "id": "38efd059",
   "metadata": {},
   "source": [
    "Features:\n",
    "- MPH\n",
    "- RPM\n",
    "- VBreak\n",
    "- HBreak\n",
    "- Break is Left"
   ]
  },
  {
   "cell_type": "code",
   "execution_count": 74,
   "id": "6760d78c",
   "metadata": {},
   "outputs": [],
   "source": [
    "from joblib import dump"
   ]
  },
  {
   "cell_type": "code",
   "execution_count": 76,
   "id": "3bb94eb9",
   "metadata": {},
   "outputs": [
    {
     "name": "stdout",
     "output_type": "stream",
     "text": [
      "Random Forest val score for Fastball: 0.633\n",
      "Random Forest val score for Slider: 0.672\n",
      "Random Forest val score for Sinker: 0.579\n",
      "Random Forest val score for Changeup: 0.568\n",
      "Random Forest val score for Curveball: 0.683\n",
      "Random Forest val score for Splitter: 0.623\n",
      "Random Forest val score for Cutter: 0.613\n"
     ]
    }
   ],
   "source": [
    "for pitch_type in pitch_types:\n",
    "    df_filter = df.loc[df['pitch_type'] == pitch_type]\n",
    "    X = df_filter[['mph', 'rpm', 'vbreak', 'hbreak', 'left_right']]\n",
    "    y = df_filter['result']\n",
    "    X_train, X_test, y_train, y_test = train_test_split(X, y, test_size=0.2, random_state=22)\n",
    "    X_train, X_val, y_train, y_val = train_test_split(X_train, y_train, test_size=0.25, random_state=22)\n",
    "    estimators = 300\n",
    "    max_depth = 5\n",
    "    rf = RandomForestClassifier(n_estimators = estimators, max_depth = max_depth, criterion = 'entropy')\n",
    "    rf.fit(X_train, y_train)\n",
    "    preds = rf.predict_proba(X_val)\n",
    "    print(f'Random Forest val score for {pitch_type}: {rf.score(X_val, y_val):.3f}')\n",
    "    dump(rf, pitch_type + '.rf')"
   ]
  },
  {
   "cell_type": "markdown",
   "id": "34da349f",
   "metadata": {},
   "source": [
    "Model Scores:\n",
    "- Fastball: .633\n",
    "- Slider: 0.672\n",
    "- Sinker 0.579\n",
    "- Changeup 0.569\n",
    "- Curve/Knuckle Curve/Slow Curve 0.683\n",
    "- Knuckle Ball/ Splitter 0.623\n",
    "- Cutter 0.614"
   ]
  },
  {
   "cell_type": "code",
   "execution_count": null,
   "id": "95205185",
   "metadata": {},
   "outputs": [],
   "source": []
  }
 ],
 "metadata": {
  "kernelspec": {
   "display_name": "Python (engineering)",
   "language": "python",
   "name": "engineering"
  },
  "language_info": {
   "codemirror_mode": {
    "name": "ipython",
    "version": 3
   },
   "file_extension": ".py",
   "mimetype": "text/x-python",
   "name": "python",
   "nbconvert_exporter": "python",
   "pygments_lexer": "ipython3",
   "version": "3.9.7"
  }
 },
 "nbformat": 4,
 "nbformat_minor": 5
}
