{
 "cells": [
  {
   "cell_type": "code",
   "execution_count": 2,
   "id": "0c57d491",
   "metadata": {},
   "outputs": [],
   "source": [
    "%reset -fs"
   ]
  },
  {
   "cell_type": "code",
   "execution_count": 20,
   "id": "108ddf97",
   "metadata": {},
   "outputs": [],
   "source": [
    "import pandas as pd\n",
    "import numpy as np\n",
    "import os\n",
    "from sklearn.model_selection import cross_val_score\n",
    "from sklearn.model_selection import train_test_split\n",
    "from sklearn.ensemble import RandomForestClassifier\n",
    "import matplotlib.pyplot as plt"
   ]
  },
  {
   "cell_type": "markdown",
   "id": "572823bc",
   "metadata": {},
   "source": [
    "To-do:\n",
    "- Load data\n",
    "- Categorize pitches\n",
    "- Categorize outcomes\n",
    "- Establish features\n",
    "- Train RF model for each pitch type"
   ]
  },
  {
   "cell_type": "markdown",
   "id": "485f2e16",
   "metadata": {},
   "source": [
    "Concat all .csv files for 2021's regular season"
   ]
  },
  {
   "cell_type": "code",
   "execution_count": 4,
   "id": "3be778b6",
   "metadata": {},
   "outputs": [
    {
     "name": "stdout",
     "output_type": "stream",
     "text": [
      "4\n",
      "5\n",
      "6\n",
      "7\n",
      "8\n",
      "9\n",
      "10\n"
     ]
    }
   ],
   "source": [
    "columns = ['date', 't1', 'pitcher', 't2', 'batter', 'inning', 'result', 'pitch_type', \n",
    "           'mph', 'rpm', 'vbreak', 'up_down', 'hbreak', 'left_right', 'count']\n",
    "df = pd.DataFrame(columns = columns)\n",
    "# Reading in all csvs and appending to one dataframe\n",
    "for month in range(4, 11):\n",
    "    print(month)\n",
    "    files = os.listdir(str(month) + '/')\n",
    "    df_month = pd.concat([pd.read_csv(str(month) + '/' + file, index_col = 0) for file in files if file.endswith('.csv')], ignore_index = True)\n",
    "    if len(df) == 0:\n",
    "        df = df_month\n",
    "    else:\n",
    "        df = pd.concat([df, df_month], ignore_index = True)\n",
    "    \n",
    "            "
   ]
  },
  {
   "cell_type": "markdown",
   "id": "12a9a5b8",
   "metadata": {},
   "source": [
    "Pitch types:\n",
    "- 4-Seam Fastball\n",
    "- Slider\n",
    "- Sinker\n",
    "- Changeup\n",
    "- Curveball\n",
    "- Cutter\n",
    "- Knuckle Curve\n",
    "- Splitter\n",
    "- Fastball\n",
    "- Slow Curve\n",
    "- Eephus\n",
    "- Knucle Ball"
   ]
  },
  {
   "cell_type": "markdown",
   "id": "9887f673",
   "metadata": {},
   "source": [
    "Groups:\n",
    "- 4-Seam/Fastball\n",
    "- Slider\n",
    "- Sinker\n",
    "- Changeup\n",
    "- Curve/Knuckle Curve/Slow Curve\n",
    "- Knuckle Ball/ Splitter\n",
    "- Cutter"
   ]
  },
  {
   "cell_type": "markdown",
   "id": "f2affc85",
   "metadata": {},
   "source": [
    "Result types:\n",
    "- Ball\n",
    "- Foul\n",
    "- Called Strike\n",
    "- Swinging Strike\n",
    "- In play, out(s)\n",
    "- In play, no out\n",
    "- Ball in Dirt\n",
    "- In play, run(s)\n",
    "- Foul Tip\n",
    "- Hit By Pitch\n",
    "- Foul Bunt\n",
    "- Missed Bunt\n",
    "- Pitchout\n",
    "\n",
    "Groups:\n",
    "- Strikes\n",
    "- Balls - Filter out\n",
    "- Contact\n",
    "- Fouls - Filter out"
   ]
  },
  {
   "cell_type": "markdown",
   "id": "5cbf6684",
   "metadata": {},
   "source": [
    "Very important -- make sure numeric values are read as numeric!"
   ]
  },
  {
   "cell_type": "code",
   "execution_count": 5,
   "id": "bbf0f199",
   "metadata": {},
   "outputs": [],
   "source": [
    "df['rpm'] = df['rpm'].apply(int)\n",
    "df['vbreak'] = df['vbreak'].apply(int)\n",
    "df['hbreak'] = df['hbreak'].apply(int)"
   ]
  },
  {
   "cell_type": "code",
   "execution_count": 6,
   "id": "256a55c1",
   "metadata": {
    "scrolled": true
   },
   "outputs": [
    {
     "data": {
      "text/plain": [
       "←    327578\n",
       "→    260159\n",
       "Name: left_right, dtype: int64"
      ]
     },
     "execution_count": 6,
     "metadata": {},
     "output_type": "execute_result"
    }
   ],
   "source": [
    "df['left_right'].value_counts()"
   ]
  },
  {
   "cell_type": "code",
   "execution_count": 7,
   "id": "8fbdb21c",
   "metadata": {},
   "outputs": [],
   "source": [
    "df['left_right'] = df['left_right'].apply(lambda x: x == '←')"
   ]
  },
  {
   "cell_type": "markdown",
   "id": "73e9a08a",
   "metadata": {},
   "source": [
    "Grouping results and pitch types"
   ]
  },
  {
   "cell_type": "code",
   "execution_count": 8,
   "id": "dfddd74a",
   "metadata": {},
   "outputs": [],
   "source": [
    "result_dict = {'Ball': 'Ball',\n",
    "               'Foul': 'Foul',\n",
    "               'Called Strike': 'Strike',\n",
    "               'Swinging Strike': 'Strike',\n",
    "               'In play, out(s)': 'Contact',\n",
    "               'In play, no out': 'Contact',\n",
    "               'Ball In Dirt': 'Ball',\n",
    "               'In play, run(s)': 'Contact',\n",
    "               'Foul Tip': 'Strike',\n",
    "               'Hit By Pitch': 'Ball',\n",
    "               'Foul Bunt': 'Strike',\n",
    "               'Missed Bunt': 'Strike',\n",
    "               'Pitchout': 'Ball'}"
   ]
  },
  {
   "cell_type": "code",
   "execution_count": 9,
   "id": "d9e55648",
   "metadata": {},
   "outputs": [],
   "source": [
    "def group_pitches(x):\n",
    "    if 'Fastball' in x:\n",
    "        return 'Fastball'\n",
    "    elif 'Curve' in x:\n",
    "        return 'Curveball'\n",
    "    elif ('Knuc' in x) or (x == 'Splitter'):\n",
    "        return 'Splitter'\n",
    "    else:\n",
    "        return x\n"
   ]
  },
  {
   "cell_type": "code",
   "execution_count": 10,
   "id": "23a322c0",
   "metadata": {
    "scrolled": true
   },
   "outputs": [
    {
     "data": {
      "text/plain": [
       "Ball               201182\n",
       "Foul               107570\n",
       "Called Strike       99187\n",
       "Swinging Strike     68763\n",
       "In play, out(s)     67077\n",
       "In play, no out     23025\n",
       "Ball In Dirt        14730\n",
       "In play, run(s)     13612\n",
       "Foul Tip             5782\n",
       "Hit By Pitch         1784\n",
       "Foul Bunt            1302\n",
       "Missed Bunt           311\n",
       "Pitchout               25\n",
       "Foul Pitchout           1\n",
       "Name: result, dtype: int64"
      ]
     },
     "execution_count": 10,
     "metadata": {},
     "output_type": "execute_result"
    }
   ],
   "source": [
    "df['result'].value_counts()"
   ]
  },
  {
   "cell_type": "code",
   "execution_count": 11,
   "id": "731029ed",
   "metadata": {},
   "outputs": [],
   "source": [
    "df['result'] = df['result'].map(result_dict)\n",
    "df['pitch_type'] = df['pitch_type'].apply(group_pitches)"
   ]
  },
  {
   "cell_type": "code",
   "execution_count": 12,
   "id": "0f0075cf",
   "metadata": {},
   "outputs": [
    {
     "data": {
      "text/plain": [
       "Ball       217721\n",
       "Strike     175345\n",
       "Foul       107570\n",
       "Contact    103714\n",
       "Name: result, dtype: int64"
      ]
     },
     "execution_count": 12,
     "metadata": {},
     "output_type": "execute_result"
    }
   ],
   "source": [
    "df['result'].value_counts()"
   ]
  },
  {
   "cell_type": "markdown",
   "id": "5eb83691",
   "metadata": {},
   "source": [
    "Only keeping pitches that resulted in 'Strike' or 'Contact'"
   ]
  },
  {
   "cell_type": "code",
   "execution_count": 13,
   "id": "aad0ab0f",
   "metadata": {},
   "outputs": [],
   "source": [
    "df = df.dropna()\n",
    "df = df.loc[(df['result'] == 'Strike') | (df['result'] == 'Contact')]\n",
    "codes, uniques = pd.factorize(df['result'])\n",
    "df['result'] = codes"
   ]
  },
  {
   "cell_type": "code",
   "execution_count": 14,
   "id": "ad4bc1b3",
   "metadata": {},
   "outputs": [],
   "source": [
    "\n",
    "pitch_types = ['Fastball', 'Slider', 'Sinker', 'Changeup', 'Curveball', 'Splitter', 'Cutter']\n",
    "#pitch_type = pitch_types[1]\n",
    "\n"
   ]
  },
  {
   "cell_type": "markdown",
   "id": "af9161f1",
   "metadata": {},
   "source": [
    "Features:\n",
    "- MPH\n",
    "- RPM\n",
    "- VBreak\n",
    "- HBreak\n",
    "- Break is Left"
   ]
  },
  {
   "cell_type": "code",
   "execution_count": 15,
   "id": "02f0f0fb",
   "metadata": {},
   "outputs": [],
   "source": [
    "from joblib import dump"
   ]
  },
  {
   "cell_type": "code",
   "execution_count": 16,
   "id": "616d40a5",
   "metadata": {},
   "outputs": [],
   "source": [
    "from sklearn.metrics import f1_score"
   ]
  },
  {
   "cell_type": "code",
   "execution_count": 93,
   "id": "1cbb56b7",
   "metadata": {},
   "outputs": [],
   "source": [
    "def fit_score(X_train, X_test, y_train, y_test, pitch_type, model):\n",
    "\n",
    "    model.fit(X_train, y_train)\n",
    "    acc = cross_val_score(model, X_train, y_train, cv = 5)\n",
    "    f1 = f1_score(y_test, model.predict(X_test))\n",
    "    preds = model.predict_proba(X_test)\n",
    "    \n",
    "    #print(f'Acc: {acc.mean():.3f} | F1: {f1:.3f}')\n",
    "    #print(f'Max: {preds[:,0].max():.3f} \\n{X_test.iloc[np.argmax(preds[:,0])]}')\n",
    "    return acc.mean(), f1"
   ]
  },
  {
   "cell_type": "code",
   "execution_count": 131,
   "id": "2080a6c6",
   "metadata": {
    "scrolled": true
   },
   "outputs": [
    {
     "data": {
      "text/html": [
       "<div>\n",
       "<style scoped>\n",
       "    .dataframe tbody tr th:only-of-type {\n",
       "        vertical-align: middle;\n",
       "    }\n",
       "\n",
       "    .dataframe tbody tr th {\n",
       "        vertical-align: top;\n",
       "    }\n",
       "\n",
       "    .dataframe thead th {\n",
       "        text-align: right;\n",
       "    }\n",
       "</style>\n",
       "<table border=\"1\" class=\"dataframe\">\n",
       "  <thead>\n",
       "    <tr style=\"text-align: right;\">\n",
       "      <th></th>\n",
       "      <th>date</th>\n",
       "      <th>t1</th>\n",
       "      <th>pitcher</th>\n",
       "      <th>t2</th>\n",
       "      <th>batter</th>\n",
       "      <th>inning</th>\n",
       "      <th>result</th>\n",
       "      <th>pitch_type</th>\n",
       "      <th>mph</th>\n",
       "      <th>rpm</th>\n",
       "      <th>vbreak</th>\n",
       "      <th>up_down</th>\n",
       "      <th>hbreak</th>\n",
       "      <th>left_right</th>\n",
       "      <th>count</th>\n",
       "    </tr>\n",
       "  </thead>\n",
       "  <tbody>\n",
       "    <tr>\n",
       "      <th>0</th>\n",
       "      <td>2021-4-23</td>\n",
       "      <td>Brewers</td>\n",
       "      <td>Kyle Hendricks</td>\n",
       "      <td>Cubs</td>\n",
       "      <td>Kolten Wong</td>\n",
       "      <td>1</td>\n",
       "      <td>0</td>\n",
       "      <td>Fastball</td>\n",
       "      <td>85.5</td>\n",
       "      <td>1866</td>\n",
       "      <td>22</td>\n",
       "      <td>↓</td>\n",
       "      <td>8</td>\n",
       "      <td>True</td>\n",
       "      <td>(0, 0)</td>\n",
       "    </tr>\n",
       "    <tr>\n",
       "      <th>1</th>\n",
       "      <td>2021-4-23</td>\n",
       "      <td>Brewers</td>\n",
       "      <td>Kyle Hendricks</td>\n",
       "      <td>Cubs</td>\n",
       "      <td>Kolten Wong</td>\n",
       "      <td>1</td>\n",
       "      <td>1</td>\n",
       "      <td>Fastball</td>\n",
       "      <td>85.9</td>\n",
       "      <td>1798</td>\n",
       "      <td>23</td>\n",
       "      <td>↓</td>\n",
       "      <td>8</td>\n",
       "      <td>True</td>\n",
       "      <td>(0, 1)</td>\n",
       "    </tr>\n",
       "    <tr>\n",
       "      <th>2</th>\n",
       "      <td>2021-4-23</td>\n",
       "      <td>Brewers</td>\n",
       "      <td>Kyle Hendricks</td>\n",
       "      <td>Cubs</td>\n",
       "      <td>Billy McKinney</td>\n",
       "      <td>1</td>\n",
       "      <td>0</td>\n",
       "      <td>Fastball</td>\n",
       "      <td>86.7</td>\n",
       "      <td>1968</td>\n",
       "      <td>21</td>\n",
       "      <td>↓</td>\n",
       "      <td>10</td>\n",
       "      <td>True</td>\n",
       "      <td>(0, 0)</td>\n",
       "    </tr>\n",
       "    <tr>\n",
       "      <th>3</th>\n",
       "      <td>2021-4-23</td>\n",
       "      <td>Brewers</td>\n",
       "      <td>Kyle Hendricks</td>\n",
       "      <td>Cubs</td>\n",
       "      <td>Billy McKinney</td>\n",
       "      <td>1</td>\n",
       "      <td>0</td>\n",
       "      <td>Fastball</td>\n",
       "      <td>86.1</td>\n",
       "      <td>1866</td>\n",
       "      <td>21</td>\n",
       "      <td>↓</td>\n",
       "      <td>8</td>\n",
       "      <td>True</td>\n",
       "      <td>(0, 1)</td>\n",
       "    </tr>\n",
       "    <tr>\n",
       "      <th>7</th>\n",
       "      <td>2021-4-23</td>\n",
       "      <td>Brewers</td>\n",
       "      <td>Kyle Hendricks</td>\n",
       "      <td>Cubs</td>\n",
       "      <td>Billy McKinney</td>\n",
       "      <td>1</td>\n",
       "      <td>0</td>\n",
       "      <td>Fastball</td>\n",
       "      <td>87.2</td>\n",
       "      <td>1890</td>\n",
       "      <td>20</td>\n",
       "      <td>↓</td>\n",
       "      <td>6</td>\n",
       "      <td>True</td>\n",
       "      <td>(2, 2)</td>\n",
       "    </tr>\n",
       "  </tbody>\n",
       "</table>\n",
       "</div>"
      ],
      "text/plain": [
       "        date       t1         pitcher    t2          batter inning  result  \\\n",
       "0  2021-4-23  Brewers  Kyle Hendricks  Cubs     Kolten Wong      1       0   \n",
       "1  2021-4-23  Brewers  Kyle Hendricks  Cubs     Kolten Wong      1       1   \n",
       "2  2021-4-23  Brewers  Kyle Hendricks  Cubs  Billy McKinney      1       0   \n",
       "3  2021-4-23  Brewers  Kyle Hendricks  Cubs  Billy McKinney      1       0   \n",
       "7  2021-4-23  Brewers  Kyle Hendricks  Cubs  Billy McKinney      1       0   \n",
       "\n",
       "  pitch_type   mph   rpm  vbreak up_down  hbreak  left_right   count  \n",
       "0   Fastball  85.5  1866      22       ↓       8        True  (0, 0)  \n",
       "1   Fastball  85.9  1798      23       ↓       8        True  (0, 1)  \n",
       "2   Fastball  86.7  1968      21       ↓      10        True  (0, 0)  \n",
       "3   Fastball  86.1  1866      21       ↓       8        True  (0, 1)  \n",
       "7   Fastball  87.2  1890      20       ↓       6        True  (2, 2)  "
      ]
     },
     "execution_count": 131,
     "metadata": {},
     "output_type": "execute_result"
    }
   ],
   "source": [
    "df.head()"
   ]
  },
  {
   "cell_type": "code",
   "execution_count": 141,
   "id": "194f4749",
   "metadata": {},
   "outputs": [],
   "source": [
    "df_dummies = pd.get_dummies(df, columns = ['pitch_type'])"
   ]
  },
  {
   "cell_type": "code",
   "execution_count": 146,
   "id": "aa0af571",
   "metadata": {
    "scrolled": true
   },
   "outputs": [
    {
     "data": {
      "text/html": [
       "<div>\n",
       "<style scoped>\n",
       "    .dataframe tbody tr th:only-of-type {\n",
       "        vertical-align: middle;\n",
       "    }\n",
       "\n",
       "    .dataframe tbody tr th {\n",
       "        vertical-align: top;\n",
       "    }\n",
       "\n",
       "    .dataframe thead th {\n",
       "        text-align: right;\n",
       "    }\n",
       "</style>\n",
       "<table border=\"1\" class=\"dataframe\">\n",
       "  <thead>\n",
       "    <tr style=\"text-align: right;\">\n",
       "      <th></th>\n",
       "      <th>date</th>\n",
       "      <th>t1</th>\n",
       "      <th>pitcher</th>\n",
       "      <th>t2</th>\n",
       "      <th>batter</th>\n",
       "      <th>inning</th>\n",
       "      <th>result</th>\n",
       "      <th>pitch_type</th>\n",
       "      <th>mph</th>\n",
       "      <th>rpm</th>\n",
       "      <th>vbreak</th>\n",
       "      <th>up_down</th>\n",
       "      <th>hbreak</th>\n",
       "      <th>left_right</th>\n",
       "      <th>count</th>\n",
       "    </tr>\n",
       "  </thead>\n",
       "  <tbody>\n",
       "    <tr>\n",
       "      <th>0</th>\n",
       "      <td>2021-4-23</td>\n",
       "      <td>Brewers</td>\n",
       "      <td>Kyle Hendricks</td>\n",
       "      <td>Cubs</td>\n",
       "      <td>Kolten Wong</td>\n",
       "      <td>1</td>\n",
       "      <td>0</td>\n",
       "      <td>Fastball</td>\n",
       "      <td>85.5</td>\n",
       "      <td>1866</td>\n",
       "      <td>22</td>\n",
       "      <td>↓</td>\n",
       "      <td>8</td>\n",
       "      <td>True</td>\n",
       "      <td>(0, 0)</td>\n",
       "    </tr>\n",
       "    <tr>\n",
       "      <th>1</th>\n",
       "      <td>2021-4-23</td>\n",
       "      <td>Brewers</td>\n",
       "      <td>Kyle Hendricks</td>\n",
       "      <td>Cubs</td>\n",
       "      <td>Kolten Wong</td>\n",
       "      <td>1</td>\n",
       "      <td>1</td>\n",
       "      <td>Fastball</td>\n",
       "      <td>85.9</td>\n",
       "      <td>1798</td>\n",
       "      <td>23</td>\n",
       "      <td>↓</td>\n",
       "      <td>8</td>\n",
       "      <td>True</td>\n",
       "      <td>(0, 1)</td>\n",
       "    </tr>\n",
       "    <tr>\n",
       "      <th>2</th>\n",
       "      <td>2021-4-23</td>\n",
       "      <td>Brewers</td>\n",
       "      <td>Kyle Hendricks</td>\n",
       "      <td>Cubs</td>\n",
       "      <td>Billy McKinney</td>\n",
       "      <td>1</td>\n",
       "      <td>0</td>\n",
       "      <td>Fastball</td>\n",
       "      <td>86.7</td>\n",
       "      <td>1968</td>\n",
       "      <td>21</td>\n",
       "      <td>↓</td>\n",
       "      <td>10</td>\n",
       "      <td>True</td>\n",
       "      <td>(0, 0)</td>\n",
       "    </tr>\n",
       "    <tr>\n",
       "      <th>3</th>\n",
       "      <td>2021-4-23</td>\n",
       "      <td>Brewers</td>\n",
       "      <td>Kyle Hendricks</td>\n",
       "      <td>Cubs</td>\n",
       "      <td>Billy McKinney</td>\n",
       "      <td>1</td>\n",
       "      <td>0</td>\n",
       "      <td>Fastball</td>\n",
       "      <td>86.1</td>\n",
       "      <td>1866</td>\n",
       "      <td>21</td>\n",
       "      <td>↓</td>\n",
       "      <td>8</td>\n",
       "      <td>True</td>\n",
       "      <td>(0, 1)</td>\n",
       "    </tr>\n",
       "    <tr>\n",
       "      <th>7</th>\n",
       "      <td>2021-4-23</td>\n",
       "      <td>Brewers</td>\n",
       "      <td>Kyle Hendricks</td>\n",
       "      <td>Cubs</td>\n",
       "      <td>Billy McKinney</td>\n",
       "      <td>1</td>\n",
       "      <td>0</td>\n",
       "      <td>Fastball</td>\n",
       "      <td>87.2</td>\n",
       "      <td>1890</td>\n",
       "      <td>20</td>\n",
       "      <td>↓</td>\n",
       "      <td>6</td>\n",
       "      <td>True</td>\n",
       "      <td>(2, 2)</td>\n",
       "    </tr>\n",
       "  </tbody>\n",
       "</table>\n",
       "</div>"
      ],
      "text/plain": [
       "        date       t1         pitcher    t2          batter inning  result  \\\n",
       "0  2021-4-23  Brewers  Kyle Hendricks  Cubs     Kolten Wong      1       0   \n",
       "1  2021-4-23  Brewers  Kyle Hendricks  Cubs     Kolten Wong      1       1   \n",
       "2  2021-4-23  Brewers  Kyle Hendricks  Cubs  Billy McKinney      1       0   \n",
       "3  2021-4-23  Brewers  Kyle Hendricks  Cubs  Billy McKinney      1       0   \n",
       "7  2021-4-23  Brewers  Kyle Hendricks  Cubs  Billy McKinney      1       0   \n",
       "\n",
       "  pitch_type   mph   rpm  vbreak up_down  hbreak  left_right   count  \n",
       "0   Fastball  85.5  1866      22       ↓       8        True  (0, 0)  \n",
       "1   Fastball  85.9  1798      23       ↓       8        True  (0, 1)  \n",
       "2   Fastball  86.7  1968      21       ↓      10        True  (0, 0)  \n",
       "3   Fastball  86.1  1866      21       ↓       8        True  (0, 1)  \n",
       "7   Fastball  87.2  1890      20       ↓       6        True  (2, 2)  "
      ]
     },
     "execution_count": 146,
     "metadata": {},
     "output_type": "execute_result"
    }
   ],
   "source": [
    "df.head()"
   ]
  },
  {
   "cell_type": "code",
   "execution_count": 174,
   "id": "65533479",
   "metadata": {},
   "outputs": [],
   "source": []
  },
  {
   "cell_type": "code",
   "execution_count": 167,
   "id": "79745002",
   "metadata": {
    "scrolled": true
   },
   "outputs": [
    {
     "data": {
      "text/plain": [
       "Fastball     1735\n",
       "Sinker        107\n",
       "Cutter         68\n",
       "Curveball      49\n",
       "Slider         31\n",
       "Changeup       10\n",
       "Name: pitch_type, dtype: int64"
      ]
     },
     "execution_count": 167,
     "metadata": {},
     "output_type": "execute_result"
    }
   ],
   "source": []
  },
  {
   "cell_type": "code",
   "execution_count": 145,
   "id": "ee03a929",
   "metadata": {
    "scrolled": true
   },
   "outputs": [
    {
     "name": "stdout",
     "output_type": "stream",
     "text": [
      "Depth 7 | Weights balanced\n",
      "Acc: 0.541\n",
      "Mean: 0.502\n",
      "Min: 0.168\n",
      "Max: 0.751\n",
      "F1 score: 0.480\n",
      "Depth 8 | Weights balanced\n",
      "Acc: 0.543\n",
      "Mean: 0.502\n",
      "Min: 0.136\n",
      "Max: 0.770\n",
      "F1 score: 0.478\n",
      "Depth 9 | Weights balanced\n",
      "Acc: 0.546\n",
      "Mean: 0.503\n",
      "Min: 0.095\n",
      "Max: 0.791\n",
      "F1 score: 0.476\n"
     ]
    }
   ],
   "source": [
    "for max_depth in [7,8,9]:\n",
    "    X = df[['mph', 'rpm', 'vbreak', 'hbreak', 'left_right']]\n",
    "    y = df['result']\n",
    "    X_train, X_test, y_train, y_test = train_test_split(X, y, test_size=0.2, random_state=22)\n",
    "    estimators = 128\n",
    "    rf = RandomForestClassifier(n_estimators = estimators, max_depth = max_depth, criterion = 'entropy',\n",
    "                               class_weight = 'balanced') #{0:y_train.mean(),1:1-y_train.mean()})\n",
    "    weights = 'balanced'\n",
    "    rf.fit(X_train, y_train)\n",
    "    scores = cross_val_score(rf, X_train, y_train, cv = 5)\n",
    "    fifax = rf.predict_proba(X_test)[:,0]\n",
    "    print(f'Depth {max_depth} | Weights {weights}')\n",
    "    print(f'Acc: {scores.mean():.3f}')\n",
    "    print(f'Mean: {fifax.mean():.3f}')\n",
    "    print(f'Min: {fifax.min():.3f}')\n",
    "    print(f'Max: {fifax.max():.3f}')\n",
    "    print(f'F1 score: {f1_score(y_test, rf.predict(X_test)):.3f}')"
   ]
  },
  {
   "cell_type": "markdown",
   "id": "cac11a42",
   "metadata": {},
   "source": [
    "Depth 3 | Weights custom\n",
    "Acc: 0.5386186754633134\n",
    "Mean: 0.501019885732919\n",
    "Min: 0.42708463445444267\n",
    "Max: 0.6073323135157587\n",
    "F1 score: 0.46654125235151844\n",
    "Depth 5 | Weights custom\n",
    "Acc: 0.5357384476357419\n",
    "Mean: 0.5014147522472726\n",
    "Min: 0.23066175913960513\n",
    "Max: 0.6733211318918977\n",
    "F1 score: 0.48362082608007595\n",
    "Depth 7 | Weights custom\n",
    "Acc: 0.540674668812156\n",
    "Mean: 0.5022430954702853\n",
    "Min: 0.1373527355394725\n",
    "Max: 0.7406122177991755\n",
    "F1 score: 0.47964224006504724\n",
    "Depth 9 | Weights custom\n",
    "Acc: 0.5457811226183116\n",
    "Mean: 0.5033356951422552\n",
    "Min: 0.10845034549808664\n",
    "Max: 0.8034860603931545\n",
    "F1 score: 0.4763473177158385\n",
    "Depth 11 | Weights custom\n",
    "Acc: 0.5497453222606781\n",
    "Mean: 0.5053064745183731\n",
    "Min: 0.07368298512266325\n",
    "Max: 0.8604298116538673\n",
    "F1 score: 0.47294748753195587\n",
    "Depth 13 | Weights custom\n",
    "Acc: 0.5540275879369346\n",
    "Mean: 0.5087369764463511\n",
    "Min: 0.05589006302083314\n",
    "Max: 0.8971897197894433\n",
    "F1 score: 0.4706956207943281\n",
    "Depth 15 | Weights custom\n",
    "Acc: 0.5607197345215287\n",
    "Mean: 0.5148353507503024\n",
    "Min: 0.036582239820204074\n",
    "Max: 0.9308125468300203\n",
    "F1 score: 0.4612511261013821\n",
    "\n",
    "Depth 3 | Weights balanced\n",
    "Acc: 0.539\n",
    "Mean: 0.501\n",
    "Min: 0.429\n",
    "Max: 0.628\n",
    "F1 score: 0.469\n",
    "Depth 5 | Weights balanced\n",
    "Acc: 0.535\n",
    "Mean: 0.501\n",
    "Min: 0.262\n",
    "Max: 0.686\n",
    "F1 score: 0.482\n",
    "Depth 7 | Weights balanced\n",
    "Acc: 0.540\n",
    "Mean: 0.502\n",
    "Min: 0.136\n",
    "Max: 0.747\n",
    "F1 score: 0.481\n",
    "Depth 9 | Weights balanced\n",
    "Acc: 0.545\n",
    "Mean: 0.503\n",
    "Min: 0.113\n",
    "Max: 0.805\n",
    "F1 score: 0.478\n",
    "Depth 11 | Weights balanced\n",
    "Acc: 0.549\n",
    "Mean: 0.505\n",
    "Min: 0.076\n",
    "Max: 0.872\n",
    "F1 score: 0.475\n",
    "Depth 13 | Weights balanced\n",
    "Acc: 0.555\n",
    "Mean: 0.509\n",
    "Min: 0.049\n",
    "Max: 0.909\n",
    "F1 score: 0.469\n",
    "Depth 15 | Weights balanced\n",
    "Acc: 0.560\n",
    "Mean: 0.515\n",
    "Min: 0.022\n",
    "Max: 0.936\n",
    "F1 score: 0.463"
   ]
  },
  {
   "cell_type": "code",
   "execution_count": 94,
   "id": "804388b2",
   "metadata": {},
   "outputs": [],
   "source": [
    "\n",
    "depth_list = [3, 5, 7, 9, 11, 13, 15, 17, 25]\n",
    "\n",
    "for pitch_type in pitch_types:\n",
    "\n",
    "    df_filter = df.loc[df['pitch_type'] == pitch_type]\n",
    "    X = df_filter[['mph', 'rpm', 'vbreak', 'hbreak', 'left_right']]\n",
    "    y = df_filter['result']\n",
    "    X_train, X_test, y_train, y_test = train_test_split(X, y, test_size=0.2, random_state=22)\n",
    "    results_df = pd.DataFrame(columns = ['depth', 'accuracy', 'f1', 'model'])\n",
    "    for depth in depth_list:\n",
    "        \n",
    "        estimators = 128    \n",
    "        rf = RandomForestClassifier(n_estimators = estimators, max_depth = depth, criterion = 'entropy',\n",
    "                               class_weight = {0:y.mean(),1:1-y.mean()}, random_state = 22)\n",
    "        results = fit_score(X_train, X_test, y_train, y_test, pitch_type, rf)\n",
    "        results_arr = np.array(results)\n",
    "        results_df.loc[len(results_df)] = [depth, results[0], results[1], 'rf']\n",
    "        \n",
    "    \n",
    "    results_df.to_csv(pitch_type + '-results.csv')\n",
    "    "
   ]
  },
  {
   "cell_type": "code",
   "execution_count": 104,
   "id": "dbcab41a",
   "metadata": {},
   "outputs": [
    {
     "data": {
      "text/plain": [
       "['Fastball', 'Slider', 'Sinker', 'Changeup', 'Curveball', 'Splitter', 'Cutter']"
      ]
     },
     "execution_count": 104,
     "metadata": {},
     "output_type": "execute_result"
    }
   ],
   "source": [
    "pitch_types"
   ]
  },
  {
   "cell_type": "code",
   "execution_count": 118,
   "id": "d650ff66",
   "metadata": {},
   "outputs": [
    {
     "data": {
      "text/plain": [
       "[<matplotlib.lines.Line2D at 0x7fe8808bdfa0>]"
      ]
     },
     "execution_count": 118,
     "metadata": {},
     "output_type": "execute_result"
    },
    {
     "data": {
      "image/png": "[encoded data removed]",
      "text/plain": [
       "<Figure size 432x288 with 1 Axes>"
      ]
     },
     "metadata": {
      "needs_background": "light"
     },
     "output_type": "display_data"
    }
   ],
   "source": [
    "results_df = pd.read_csv(pitch_types[6] + '-results.csv', index_col = 0)\n",
    "plt.plot(results_df['depth'], results_df['accuracy'])\n",
    "plt.ylim(0, 1)\n",
    "plt.plot(results_df['depth'], results_df['f1'])"
   ]
  },
  {
   "cell_type": "code",
   "execution_count": 171,
   "id": "bdc176fd",
   "metadata": {
    "scrolled": true
   },
   "outputs": [
    {
     "name": "stdout",
     "output_type": "stream",
     "text": [
      "Depth: 8\n",
      "Mean: 0.504\n",
      "Min: 0.119\n",
      "Max: 0.808\n",
      "F1 score: 0.466\n",
      "Random Forest val score for Fastball: 0.531\n",
      "---\n",
      "Depth: 8\n",
      "Mean: 0.504\n",
      "Min: 0.186\n",
      "Max: 0.815\n",
      "F1 score: 0.435\n",
      "Random Forest val score for Slider: 0.508\n",
      "---\n",
      "Depth: 8\n",
      "Mean: 0.501\n",
      "Min: 0.370\n",
      "Max: 0.768\n",
      "F1 score: 0.515\n",
      "Random Forest val score for Sinker: 0.525\n",
      "---\n",
      "Depth: 8\n",
      "Mean: 0.502\n",
      "Min: 0.276\n",
      "Max: 0.902\n",
      "F1 score: 0.486\n",
      "Random Forest val score for Changeup: 0.518\n",
      "---\n",
      "Depth: 8\n",
      "Mean: 0.506\n",
      "Min: 0.271\n",
      "Max: 0.850\n",
      "F1 score: 0.411\n",
      "Random Forest val score for Curveball: 0.535\n",
      "---\n",
      "Depth: 8\n",
      "Mean: 0.516\n",
      "Min: 0.244\n",
      "Max: 0.817\n",
      "F1 score: 0.395\n",
      "Random Forest val score for Splitter: 0.539\n",
      "---\n",
      "Depth: 8\n",
      "Mean: 0.507\n",
      "Min: 0.312\n",
      "Max: 0.898\n",
      "F1 score: 0.505\n",
      "Random Forest val score for Cutter: 0.503\n",
      "---\n"
     ]
    }
   ],
   "source": [
    "# Training RF for each pitch type, then saving the file to disk\n",
    "depth = 8\n",
    "for pitch_type in pitch_types:\n",
    "    df_filter = df.loc[df['pitch_type'] == pitch_type]\n",
    "    X = df_filter[['mph', 'rpm', 'vbreak', 'hbreak', 'left_right']]\n",
    "    y = df_filter['result']\n",
    "    X_train, X_test, y_train, y_test = train_test_split(X, y, test_size=0.2, random_state=22)\n",
    "    #X_train, X_val, y_train, y_val = train_test_split(X_train, y_train, test_size=0.25, random_state=22)\n",
    "    estimators = 128\n",
    "    max_depth = depth\n",
    "    # Be sure to weight classes appropriately to improve F1\n",
    "    rf = RandomForestClassifier(n_estimators = estimators, max_depth = max_depth, criterion = 'entropy',\n",
    "                               class_weight = 'balanced')\n",
    "    #print(f'Estimators: {estimators}')\n",
    "    #print(f'Max depth: {max_depth}')\n",
    "    #print(f'Cross val score: {scores.mean()}')\n",
    "    rf.fit(X_train, y_train)\n",
    "    scores = cross_val_score(rf, X_train, y_train, cv = 5)\n",
    "    print(f'Depth: {depth}')\n",
    "    print(f'Mean: {rf.predict_proba(X_test)[:,0].mean():.3f}')\n",
    "    print(f'Min: {rf.predict_proba(X_test)[:,0].min():.3f}')\n",
    "    print(f'Max: {rf.predict_proba(X_test)[:,0].max():.3f}')\n",
    "    print(f'F1 score: {f1_score(y_test, rf.predict(X_test)):.3f}')\n",
    "    print(f'Random Forest val score for {pitch_type}: {rf.score(X_test, y_test):.3f}')\n",
    "    print('---')\n",
    "    dump(rf, pitch_type + '3.rf')"
   ]
  },
  {
   "cell_type": "markdown",
   "id": "05082d5f",
   "metadata": {},
   "source": [
    "Model Scores: (Max depth = 7)\n",
    "- Fastball: .633\n",
    "- Slider: 0.672\n",
    "- Sinker 0.579\n",
    "- Changeup 0.569\n",
    "- Curve/Knuckle Curve/Slow Curve 0.683\n",
    "- Knuckle Ball/ Splitter 0.623\n",
    "- Cutter 0.614"
   ]
  },
  {
   "cell_type": "markdown",
   "id": "f8a74e53",
   "metadata": {},
   "source": [
    "Model V2 Scores (acc/F1): (Max depth = 11)\n",
    "- Fastball: .603/.318\n",
    "- Slider: 0.647/.226\n",
    "- Sinker 0.552/.387\n",
    "- Changeup 0.545/.414\n",
    "- Curve/Knuckle Curve/Slow Curve 0.659/.190\n",
    "- Knuckle Ball/ Splitter 0.605/.347\n",
    "- Cutter 0.559/.346"
   ]
  },
  {
   "cell_type": "markdown",
   "id": "c7abe128",
   "metadata": {},
   "source": [
    "Model V3 Scores (Max depth = 8, class balance)\n",
    "- Fastball: .531/.466\n",
    "- Slider: .508/.435\n",
    "- Sinker .525/.515\n",
    "- Changeup .518/.486\n",
    "- Curve/Knuckle Curve/Slow Curve .535/.411\n",
    "- Knuckle Ball/ Splitter .539/.395\n",
    "- Cutter .503/.505\n",
    "\n",
    "\n"
   ]
  },
  {
   "cell_type": "code",
   "execution_count": null,
   "id": "c445f576",
   "metadata": {},
   "outputs": [],
   "source": [
    "from joblib import load\n",
    "\n",
    "test_pitch = pitch_types[4]\n",
    "rf = load(test_pitch + '3.rf')\n",
    "df_test = df.loc[df.pitch_type == test_pitch]\n",
    "X = df_test[['mph', 'rpm', 'vbreak', 'hbreak', 'left_right']]\n",
    "preds = rf.predict_proba(X)[:,0]\n",
    "df_test['test_fifax'] = preds\n",
    "\n",
    "\n",
    "mpl_df = pd.DataFrame(columns = ['threshold', 'accuracy', 'recall', 'precision'])\n",
    "\n",
    "for i in np.linspace(0.3, 0.7):\n",
    "    def apply_decision(fin):\n",
    "        if fin > i:\n",
    "            return 0\n",
    "        else:\n",
    "            return 1\n",
    "    df_test['pred'] = df_test['test_fifax'].apply(apply_decision)\n",
    "    \n",
    "    tp = len(df_test.loc[(df_test.pred == 0) & (df_test.result == 0)])\n",
    "    fp = len(df_test.loc[(df_test.pred == 0) & (df_test.result == 1)])\n",
    "    fn = len(df_test.loc[(df_test.pred == 1) & (df_test.result == 0)])\n",
    "    accuracy = (df_test.pred == df_test.result).mean()\n",
    "    recall = tp/(tp + fn)\n",
    "    precision = tp/(tp + fp)\n",
    "    #print(f'thresh: {i:.2f}, acc:{accuracy:.3f}, rec: {recall:.3f}, prec: {precision:.3f}')\n",
    "    mpl_df.loc[len(mpl_df)] = [i, accuracy, recall, precision]\n",
    "\n",
    "\n",
    "plt.plot(mpl_df.threshold, mpl_df.accuracy, label = 'acc')\n",
    "plt.ylim(0, 1)\n",
    "plt.plot(mpl_df.threshold, mpl_df.recall, label = 'recall')\n",
    "plt.plot(mpl_df.threshold, mpl_df.precision, label = 'precision')\n",
    "plt.legend()"
   ]
  },
  {
   "cell_type": "code",
   "execution_count": null,
   "id": "1e0f50f1",
   "metadata": {},
   "outputs": [],
   "source": [
    "df.loc[df.pitch_type == 'Changeup'].sort_values(by = 'test_fifax', ascending = False).head(20)"
   ]
  },
  {
   "cell_type": "code",
   "execution_count": null,
   "id": "af732a9c",
   "metadata": {},
   "outputs": [],
   "source": [
    "df.sort_values(by = 'test_fifax', ascending = False).head(2000).pitch_type.value_counts()"
   ]
  }
 ],
 "metadata": {
  "kernelspec": {
   "display_name": "Python (engineering)",
   "language": "python",
   "name": "engineering"
  },
  "language_info": {
   "codemirror_mode": {
    "name": "ipython",
    "version": 3
   },
   "file_extension": ".py",
   "mimetype": "text/x-python",
   "name": "python",
   "nbconvert_exporter": "python",
   "pygments_lexer": "ipython3",
   "version": "3.9.7"
  }
 },
 "nbformat": 4,
 "nbformat_minor": 5
}
