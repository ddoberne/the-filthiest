{
 "cells": [
  {
   "cell_type": "code",
   "execution_count": 56,
   "id": "0c57d491",
   "metadata": {},
   "outputs": [],
   "source": [
    "%reset -fs"
   ]
  },
  {
   "cell_type": "code",
   "execution_count": 57,
   "id": "921f2c2a",
   "metadata": {},
   "outputs": [],
   "source": [
    "#!conda install -y -c conda-forge xgboost"
   ]
  },
  {
   "cell_type": "code",
   "execution_count": 58,
   "id": "108ddf97",
   "metadata": {},
   "outputs": [],
   "source": [
    "import pandas as pd\n",
    "import numpy as np\n",
    "import os\n",
    "from sklearn.model_selection import cross_val_score\n",
    "from sklearn.model_selection import train_test_split\n",
    "from sklearn.ensemble import RandomForestClassifier"
   ]
  },
  {
   "cell_type": "code",
   "execution_count": null,
   "id": "c5cab80c",
   "metadata": {},
   "outputs": [],
   "source": []
  },
  {
   "cell_type": "code",
   "execution_count": null,
   "id": "7e077903",
   "metadata": {},
   "outputs": [],
   "source": []
  },
  {
   "cell_type": "code",
   "execution_count": 59,
   "id": "3be778b6",
   "metadata": {},
   "outputs": [
    {
     "name": "stdout",
     "output_type": "stream",
     "text": [
      "4\n",
      "5\n",
      "6\n",
      "7\n",
      "8\n",
      "9\n",
      "10\n"
     ]
    }
   ],
   "source": [
    "columns = ['date', 't1', 'pitcher', 't2', 'batter', 'inning', 'result', 'pitch_type', \n",
    "           'mph', 'rpm', 'vbreak', 'up_down', 'hbreak', 'left_right', 'count']\n",
    "df = pd.DataFrame(columns = columns)\n",
    "for month in range(4, 11):\n",
    "    print(month)\n",
    "    files = os.listdir(str(month) + '/')\n",
    "    df_month = pd.concat([pd.read_csv(str(month) + '/' + file, index_col = 0) for file in files if file.endswith('.csv')], ignore_index = True)\n",
    "    if len(df) == 0:\n",
    "        df = df_month\n",
    "    else:\n",
    "        df = pd.concat([df, df_month], ignore_index = True)\n",
    "    \n",
    "            "
   ]
  },
  {
   "cell_type": "markdown",
   "id": "17a79e93",
   "metadata": {},
   "source": [
    "Pitch types:\n",
    "- 4-Seam Fastball\n",
    "- Slider\n",
    "- Sinker\n",
    "- Changeup\n",
    "- Curveball\n",
    "- Cutter\n",
    "- Knuckle Curve\n",
    "- Splitter\n",
    "- Fastball\n",
    "- Slow Curve\n",
    "- Eephus\n",
    "- Knucle Ball"
   ]
  },
  {
   "cell_type": "markdown",
   "id": "839120a7",
   "metadata": {},
   "source": [
    "Groups:\n",
    "- 4-Seam/Fastball\n",
    "- Slider\n",
    "- Sinker\n",
    "- Changeup\n",
    "- Curve/Knuckle Curve/Slow Curve\n",
    "- Knuckle Ball/ Splitter\n",
    "- Cutter"
   ]
  },
  {
   "cell_type": "markdown",
   "id": "e4995874",
   "metadata": {},
   "source": [
    "Result types:\n",
    "- Ball\n",
    "- Foul\n",
    "- Called Strike\n",
    "- Swinging Strike\n",
    "- In play, out(s)\n",
    "- In play, no out\n",
    "- Ball in Dirt\n",
    "- In play, run(s)\n",
    "- Foul Tip\n",
    "- Hit By Pitch\n",
    "- Foul Bunt\n",
    "- Missed Bunt\n",
    "- Pitchout\n",
    "\n",
    "Groups:\n",
    "- Strikes\n",
    "- Balls - Filter out\n",
    "- Contact\n",
    "- Fouls - Filter out"
   ]
  },
  {
   "cell_type": "code",
   "execution_count": 60,
   "id": "73cf9ebe",
   "metadata": {},
   "outputs": [],
   "source": [
    "df['rpm'] = df['rpm'].apply(int)\n",
    "df['vbreak'] = df['vbreak'].apply(int)\n",
    "df['hbreak'] = df['hbreak'].apply(int)"
   ]
  },
  {
   "cell_type": "code",
   "execution_count": 61,
   "id": "8bc12c2f",
   "metadata": {
    "scrolled": true
   },
   "outputs": [
    {
     "data": {
      "text/plain": [
       "←    327578\n",
       "→    260159\n",
       "Name: left_right, dtype: int64"
      ]
     },
     "execution_count": 61,
     "metadata": {},
     "output_type": "execute_result"
    }
   ],
   "source": [
    "df['left_right'].value_counts()"
   ]
  },
  {
   "cell_type": "code",
   "execution_count": 62,
   "id": "de102864",
   "metadata": {},
   "outputs": [],
   "source": [
    "df['left_right'] = df['left_right'].apply(lambda x: x == '←')"
   ]
  },
  {
   "cell_type": "code",
   "execution_count": 65,
   "id": "ce63da71",
   "metadata": {},
   "outputs": [],
   "source": [
    "result_dict = {'Ball': 'Ball',\n",
    "               'Foul': 'Foul',\n",
    "               'Called Strike': 'Strike',\n",
    "               'Swinging Strike': 'Strike',\n",
    "               'In play, out(s)': 'Contact',\n",
    "               'In play, no out': 'Contact',\n",
    "               'Ball In Dirt': 'Ball',\n",
    "               'In play, run(s)': 'Contact',\n",
    "               'Foul Tip': 'Strike',\n",
    "               'Hit By Pitch': 'Ball',\n",
    "               'Foul Bunt': 'Strike',\n",
    "               'Missed Bunt': 'Strike',\n",
    "               'Pitchout': 'Ball'}"
   ]
  },
  {
   "cell_type": "code",
   "execution_count": 66,
   "id": "d8346076",
   "metadata": {},
   "outputs": [],
   "source": [
    "def group_pitches(x):\n",
    "    if 'Fastball' in x:\n",
    "        return 'Fastball'\n",
    "    elif 'Curve' in x:\n",
    "        return 'Curveball'\n",
    "    elif ('Knuc' in x) or (x == 'Splitter'):\n",
    "        return 'Splitter'\n",
    "    else:\n",
    "        return x\n"
   ]
  },
  {
   "cell_type": "code",
   "execution_count": 67,
   "id": "a8aaeca2",
   "metadata": {
    "scrolled": true
   },
   "outputs": [
    {
     "data": {
      "text/plain": [
       "Ball               201182\n",
       "Foul               107570\n",
       "Called Strike       99187\n",
       "Swinging Strike     68763\n",
       "In play, out(s)     67077\n",
       "In play, no out     23025\n",
       "Ball In Dirt        14730\n",
       "In play, run(s)     13612\n",
       "Foul Tip             5782\n",
       "Hit By Pitch         1784\n",
       "Foul Bunt            1302\n",
       "Missed Bunt           311\n",
       "Pitchout               25\n",
       "Foul Pitchout           1\n",
       "Name: result, dtype: int64"
      ]
     },
     "execution_count": 67,
     "metadata": {},
     "output_type": "execute_result"
    }
   ],
   "source": [
    "df['result'].value_counts()"
   ]
  },
  {
   "cell_type": "code",
   "execution_count": 68,
   "id": "821f43c5",
   "metadata": {},
   "outputs": [],
   "source": [
    "df['result'] = df['result'].map(result_dict)\n",
    "df['pitch_type'] = df['pitch_type'].apply(group_pitches)"
   ]
  },
  {
   "cell_type": "code",
   "execution_count": 69,
   "id": "0d15d8c0",
   "metadata": {},
   "outputs": [
    {
     "data": {
      "text/plain": [
       "Ball       202991\n",
       "Strike     175345\n",
       "Foul       107570\n",
       "Contact    103714\n",
       "Name: result, dtype: int64"
      ]
     },
     "execution_count": 69,
     "metadata": {},
     "output_type": "execute_result"
    }
   ],
   "source": [
    "df['result'].value_counts()"
   ]
  },
  {
   "cell_type": "code",
   "execution_count": null,
   "id": "add3bb76",
   "metadata": {},
   "outputs": [],
   "source": []
  },
  {
   "cell_type": "code",
   "execution_count": 70,
   "id": "d9644868",
   "metadata": {},
   "outputs": [],
   "source": [
    "df = df.dropna()\n",
    "df = df.loc[(df['result'] == 'Strike') | (df['result'] == 'Contact')]\n",
    "codes, uniques = pd.factorize(df['result'])\n",
    "df['result'] = codes"
   ]
  },
  {
   "cell_type": "code",
   "execution_count": 72,
   "id": "8e426e12",
   "metadata": {},
   "outputs": [
    {
     "data": {
      "text/plain": [
       "Index(['Strike', 'Contact'], dtype='object')"
      ]
     },
     "execution_count": 72,
     "metadata": {},
     "output_type": "execute_result"
    }
   ],
   "source": [
    "uniques"
   ]
  },
  {
   "cell_type": "code",
   "execution_count": 73,
   "id": "d07fbc60",
   "metadata": {},
   "outputs": [],
   "source": [
    "\n",
    "pitch_types = ['Fastball', 'Slider', 'Sinker', 'Changeup', 'Curveball', 'Splitter', 'Cutter']\n",
    "#pitch_type = pitch_types[1]\n",
    "\n"
   ]
  },
  {
   "cell_type": "markdown",
   "id": "9731a16d",
   "metadata": {},
   "source": [
    "Features:\n",
    "- MPH\n",
    "- RPM\n",
    "- VBreak\n",
    "- HBreak\n",
    "- Break is Left"
   ]
  },
  {
   "cell_type": "code",
   "execution_count": 74,
   "id": "758d09a8",
   "metadata": {},
   "outputs": [],
   "source": [
    "from joblib import dump"
   ]
  },
  {
   "cell_type": "code",
   "execution_count": 76,
   "id": "c4662cb7",
   "metadata": {},
   "outputs": [
    {
     "name": "stdout",
     "output_type": "stream",
     "text": [
      "Random Forest val score for Fastball: 0.633\n",
      "Random Forest val score for Slider: 0.672\n",
      "Random Forest val score for Sinker: 0.579\n",
      "Random Forest val score for Changeup: 0.568\n",
      "Random Forest val score for Curveball: 0.683\n",
      "Random Forest val score for Splitter: 0.623\n",
      "Random Forest val score for Cutter: 0.613\n"
     ]
    }
   ],
   "source": [
    "for pitch_type in pitch_types:\n",
    "    df_filter = df.loc[df['pitch_type'] == pitch_type]\n",
    "    X = df_filter[['mph', 'rpm', 'vbreak', 'hbreak', 'left_right']]\n",
    "    y = df_filter['result']\n",
    "    X_train, X_test, y_train, y_test = train_test_split(X, y, test_size=0.2, random_state=22)\n",
    "    X_train, X_val, y_train, y_val = train_test_split(X_train, y_train, test_size=0.25, random_state=22)\n",
    "    estimators = 300\n",
    "    max_depth = 5\n",
    "    rf = RandomForestClassifier(n_estimators = estimators, max_depth = max_depth, criterion = 'entropy')\n",
    "    rf.fit(X_train, y_train)\n",
    "    preds = rf.predict_proba(X_val)\n",
    "    print(f'Random Forest val score for {pitch_type}: {rf.score(X_val, y_val):.3f}')\n",
    "    dump(rf, pitch_type + '.rf')"
   ]
  },
  {
   "cell_type": "markdown",
   "id": "be549bda",
   "metadata": {},
   "source": [
    "Model Scores:\n",
    "- Fastball: .633\n",
    "- Slider: 0.672\n",
    "- Sinker 0.579\n",
    "- Changeup 0.569\n",
    "- Curve/Knuckle Curve/Slow Curve 0.683\n",
    "- Knuckle Ball/ Splitter 0.623\n",
    "- Cutter 0.614"
   ]
  },
  {
   "cell_type": "code",
   "execution_count": 92,
   "id": "0c396dcd",
   "metadata": {},
   "outputs": [
    {
     "data": {
      "text/plain": [
       "0.7901983126698617"
      ]
     },
     "execution_count": 92,
     "metadata": {},
     "output_type": "execute_result"
    }
   ],
   "source": [
    "rf.predict_proba(np.array([96.8, 2767, 12, 0, False]).reshape(1,5))[0][0]"
   ]
  },
  {
   "cell_type": "code",
   "execution_count": 86,
   "id": "8e7b0925",
   "metadata": {},
   "outputs": [
    {
     "data": {
      "text/plain": [
       "array([  96.8, 2767. ,   12. ,    0. ,    0. ])"
      ]
     },
     "execution_count": 86,
     "metadata": {},
     "output_type": "execute_result"
    }
   ],
   "source": [
    "np.array([96.8, 2767, 12, 0, False])"
   ]
  },
  {
   "cell_type": "code",
   "execution_count": 77,
   "id": "620d3f77",
   "metadata": {
    "scrolled": false
   },
   "outputs": [],
   "source": [
    "val_df = pd.concat([X_val, y_val], ignore_index = True, axis = 1)\n",
    "val_df['FiFa'] = preds[:,0]"
   ]
  },
  {
   "cell_type": "code",
   "execution_count": 78,
   "id": "70ae3448",
   "metadata": {},
   "outputs": [
    {
     "data": {
      "text/html": [
       "<div>\n",
       "<style scoped>\n",
       "    .dataframe tbody tr th:only-of-type {\n",
       "        vertical-align: middle;\n",
       "    }\n",
       "\n",
       "    .dataframe tbody tr th {\n",
       "        vertical-align: top;\n",
       "    }\n",
       "\n",
       "    .dataframe thead th {\n",
       "        text-align: right;\n",
       "    }\n",
       "</style>\n",
       "<table border=\"1\" class=\"dataframe\">\n",
       "  <thead>\n",
       "    <tr style=\"text-align: right;\">\n",
       "      <th></th>\n",
       "      <th>0</th>\n",
       "      <th>1</th>\n",
       "      <th>2</th>\n",
       "      <th>3</th>\n",
       "      <th>4</th>\n",
       "      <th>5</th>\n",
       "      <th>FiFa</th>\n",
       "    </tr>\n",
       "  </thead>\n",
       "  <tbody>\n",
       "    <tr>\n",
       "      <th>71269</th>\n",
       "      <td>96.8</td>\n",
       "      <td>2767</td>\n",
       "      <td>12</td>\n",
       "      <td>0</td>\n",
       "      <td>False</td>\n",
       "      <td>0</td>\n",
       "      <td>0.790198</td>\n",
       "    </tr>\n",
       "    <tr>\n",
       "      <th>112058</th>\n",
       "      <td>91.6</td>\n",
       "      <td>3128</td>\n",
       "      <td>12</td>\n",
       "      <td>6</td>\n",
       "      <td>False</td>\n",
       "      <td>1</td>\n",
       "      <td>0.788519</td>\n",
       "    </tr>\n",
       "    <tr>\n",
       "      <th>520782</th>\n",
       "      <td>97.1</td>\n",
       "      <td>2766</td>\n",
       "      <td>12</td>\n",
       "      <td>0</td>\n",
       "      <td>False</td>\n",
       "      <td>0</td>\n",
       "      <td>0.787077</td>\n",
       "    </tr>\n",
       "    <tr>\n",
       "      <th>50981</th>\n",
       "      <td>96.0</td>\n",
       "      <td>3003</td>\n",
       "      <td>14</td>\n",
       "      <td>4</td>\n",
       "      <td>False</td>\n",
       "      <td>0</td>\n",
       "      <td>0.785215</td>\n",
       "    </tr>\n",
       "    <tr>\n",
       "      <th>90146</th>\n",
       "      <td>90.3</td>\n",
       "      <td>2805</td>\n",
       "      <td>12</td>\n",
       "      <td>7</td>\n",
       "      <td>False</td>\n",
       "      <td>0</td>\n",
       "      <td>0.784497</td>\n",
       "    </tr>\n",
       "    <tr>\n",
       "      <th>186213</th>\n",
       "      <td>91.7</td>\n",
       "      <td>2874</td>\n",
       "      <td>12</td>\n",
       "      <td>2</td>\n",
       "      <td>False</td>\n",
       "      <td>0</td>\n",
       "      <td>0.783597</td>\n",
       "    </tr>\n",
       "    <tr>\n",
       "      <th>141437</th>\n",
       "      <td>90.9</td>\n",
       "      <td>2781</td>\n",
       "      <td>14</td>\n",
       "      <td>6</td>\n",
       "      <td>False</td>\n",
       "      <td>1</td>\n",
       "      <td>0.780688</td>\n",
       "    </tr>\n",
       "    <tr>\n",
       "      <th>141438</th>\n",
       "      <td>91.1</td>\n",
       "      <td>2796</td>\n",
       "      <td>12</td>\n",
       "      <td>6</td>\n",
       "      <td>False</td>\n",
       "      <td>0</td>\n",
       "      <td>0.779009</td>\n",
       "    </tr>\n",
       "    <tr>\n",
       "      <th>158011</th>\n",
       "      <td>92.0</td>\n",
       "      <td>2970</td>\n",
       "      <td>14</td>\n",
       "      <td>6</td>\n",
       "      <td>False</td>\n",
       "      <td>1</td>\n",
       "      <td>0.772430</td>\n",
       "    </tr>\n",
       "    <tr>\n",
       "      <th>10744</th>\n",
       "      <td>91.1</td>\n",
       "      <td>2660</td>\n",
       "      <td>13</td>\n",
       "      <td>6</td>\n",
       "      <td>False</td>\n",
       "      <td>1</td>\n",
       "      <td>0.772028</td>\n",
       "    </tr>\n",
       "    <tr>\n",
       "      <th>74564</th>\n",
       "      <td>91.5</td>\n",
       "      <td>2818</td>\n",
       "      <td>12</td>\n",
       "      <td>5</td>\n",
       "      <td>False</td>\n",
       "      <td>0</td>\n",
       "      <td>0.771571</td>\n",
       "    </tr>\n",
       "    <tr>\n",
       "      <th>81041</th>\n",
       "      <td>95.0</td>\n",
       "      <td>3046</td>\n",
       "      <td>13</td>\n",
       "      <td>3</td>\n",
       "      <td>False</td>\n",
       "      <td>1</td>\n",
       "      <td>0.767728</td>\n",
       "    </tr>\n",
       "    <tr>\n",
       "      <th>538425</th>\n",
       "      <td>91.7</td>\n",
       "      <td>2624</td>\n",
       "      <td>10</td>\n",
       "      <td>2</td>\n",
       "      <td>True</td>\n",
       "      <td>0</td>\n",
       "      <td>0.767212</td>\n",
       "    </tr>\n",
       "    <tr>\n",
       "      <th>520784</th>\n",
       "      <td>97.2</td>\n",
       "      <td>2807</td>\n",
       "      <td>14</td>\n",
       "      <td>1</td>\n",
       "      <td>False</td>\n",
       "      <td>0</td>\n",
       "      <td>0.766670</td>\n",
       "    </tr>\n",
       "    <tr>\n",
       "      <th>51035</th>\n",
       "      <td>95.7</td>\n",
       "      <td>2917</td>\n",
       "      <td>13</td>\n",
       "      <td>4</td>\n",
       "      <td>False</td>\n",
       "      <td>0</td>\n",
       "      <td>0.766032</td>\n",
       "    </tr>\n",
       "    <tr>\n",
       "      <th>141427</th>\n",
       "      <td>91.8</td>\n",
       "      <td>2950</td>\n",
       "      <td>13</td>\n",
       "      <td>5</td>\n",
       "      <td>False</td>\n",
       "      <td>0</td>\n",
       "      <td>0.763724</td>\n",
       "    </tr>\n",
       "    <tr>\n",
       "      <th>59815</th>\n",
       "      <td>92.6</td>\n",
       "      <td>2827</td>\n",
       "      <td>14</td>\n",
       "      <td>6</td>\n",
       "      <td>False</td>\n",
       "      <td>0</td>\n",
       "      <td>0.763444</td>\n",
       "    </tr>\n",
       "    <tr>\n",
       "      <th>112061</th>\n",
       "      <td>89.1</td>\n",
       "      <td>3007</td>\n",
       "      <td>16</td>\n",
       "      <td>6</td>\n",
       "      <td>False</td>\n",
       "      <td>1</td>\n",
       "      <td>0.758315</td>\n",
       "    </tr>\n",
       "    <tr>\n",
       "      <th>422744</th>\n",
       "      <td>93.8</td>\n",
       "      <td>2747</td>\n",
       "      <td>13</td>\n",
       "      <td>6</td>\n",
       "      <td>False</td>\n",
       "      <td>0</td>\n",
       "      <td>0.755529</td>\n",
       "    </tr>\n",
       "    <tr>\n",
       "      <th>5148</th>\n",
       "      <td>91.2</td>\n",
       "      <td>2603</td>\n",
       "      <td>14</td>\n",
       "      <td>4</td>\n",
       "      <td>False</td>\n",
       "      <td>1</td>\n",
       "      <td>0.754365</td>\n",
       "    </tr>\n",
       "  </tbody>\n",
       "</table>\n",
       "</div>"
      ],
      "text/plain": [
       "           0     1   2  3      4  5      FiFa\n",
       "71269   96.8  2767  12  0  False  0  0.790198\n",
       "112058  91.6  3128  12  6  False  1  0.788519\n",
       "520782  97.1  2766  12  0  False  0  0.787077\n",
       "50981   96.0  3003  14  4  False  0  0.785215\n",
       "90146   90.3  2805  12  7  False  0  0.784497\n",
       "186213  91.7  2874  12  2  False  0  0.783597\n",
       "141437  90.9  2781  14  6  False  1  0.780688\n",
       "141438  91.1  2796  12  6  False  0  0.779009\n",
       "158011  92.0  2970  14  6  False  1  0.772430\n",
       "10744   91.1  2660  13  6  False  1  0.772028\n",
       "74564   91.5  2818  12  5  False  0  0.771571\n",
       "81041   95.0  3046  13  3  False  1  0.767728\n",
       "538425  91.7  2624  10  2   True  0  0.767212\n",
       "520784  97.2  2807  14  1  False  0  0.766670\n",
       "51035   95.7  2917  13  4  False  0  0.766032\n",
       "141427  91.8  2950  13  5  False  0  0.763724\n",
       "59815   92.6  2827  14  6  False  0  0.763444\n",
       "112061  89.1  3007  16  6  False  1  0.758315\n",
       "422744  93.8  2747  13  6  False  0  0.755529\n",
       "5148    91.2  2603  14  4  False  1  0.754365"
      ]
     },
     "execution_count": 78,
     "metadata": {},
     "output_type": "execute_result"
    }
   ],
   "source": [
    "val_df.sort_values(by = 'FiFa', ascending = False).head(20)"
   ]
  },
  {
   "cell_type": "code",
   "execution_count": null,
   "id": "38806d4f",
   "metadata": {},
   "outputs": [],
   "source": []
  }
 ],
 "metadata": {
  "kernelspec": {
   "display_name": "Python (engineering)",
   "language": "python",
   "name": "engineering"
  },
  "language_info": {
   "codemirror_mode": {
    "name": "ipython",
    "version": 3
   },
   "file_extension": ".py",
   "mimetype": "text/x-python",
   "name": "python",
   "nbconvert_exporter": "python",
   "pygments_lexer": "ipython3",
   "version": "3.9.7"
  }
 },
 "nbformat": 4,
 "nbformat_minor": 5
}
